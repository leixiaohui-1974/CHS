{
 "cells": [
  {
   "cell_type": "markdown",
   "metadata": {},
   "source": [
    "# Core Model Guide: NonlinearTank\n",
    "\n",
    "This notebook provides a detailed guide to the `NonlinearTank` model. This model is an advancement over the `LinearTank` and is used for reservoirs or tanks where the surface area changes with water level. This is typical for real-world reservoirs with sloped banks."
   ]
  },
  {
   "cell_type": "markdown",
   "metadata": {},
   "source": [
    "## 1. Theoretical Background\n",
    "\n",
    "Like the `LinearTank`, this model is based on mass conservation. However, instead of assuming a constant surface area, it uses a user-provided **level-volume curve** to define the relationship between water level and storage volume.\n",
    "\n",
    "The simulation logic is:\n",
    "1. At the start, use the `initial_level` to look up the `initial_volume` from the curve.\n",
    "2. At each time step, update the volume first: `new_volume = old_volume + (Inflow - Outflow) * dt`.\n",
    "3. Use the `new_volume` to look up the `new_level` from the curve.\n",
    "\n",
    "The model uses linear interpolation (`numpy.interp`) to find values between the points defined in the curve."
   ]
  },
  {
   "cell_type": "markdown",
   "metadata": {},
   "source": [
    "## 2. API and Parameters\n",
    "\n",
    "Let's import the necessary libraries and the model."
   ]
  },
  {
   "cell_type": "code",
   "execution_count": null,
   "metadata": {},
   "outputs": [],
   "source": [
    "import sys\n",
    "import os\n",
    "import matplotlib.pyplot as plt\n",
    "import numpy as np\n",
    "\n",
    "# Add the project root to the path\n",
    "sys.path.insert(0, os.path.abspath(os.path.join(os.getcwd(), '..')))\n",
    "\n",
    "from water_system_sdk.src.chs_sdk.modules.modeling.storage_models import NonlinearTank"
   ]
  },
  {
   "cell_type": "markdown",
   "metadata": {},
   "source": [
    "The `NonlinearTank` is initialized with:\n",
    "\n",
    "- `level_to_volume` (np.ndarray): This is the key parameter. It must be a 2xN NumPy array where:\n",
    "  - `array[0]` is a list of water levels.\n",
    "  - `array[1]` is a corresponding list of storage volumes.\n",
    "- `initial_level` (float): The water level at the beginning of the simulation.\n",
    "- `min_level` (float, optional): The minimum allowed water level.\n",
    "- `max_level` (float, optional): The maximum allowed water level."
   ]
  },
  {
   "cell_type": "markdown",
   "metadata": {},
   "source": [
    "## 3. Code Example\n",
    "\n",
    "Let's simulate a V-shaped reservoir. The volume will increase with the cube of the level. We will define a simple 3-point curve to approximate this."
   ]
  },
  {
   "cell_type": "code",
   "execution_count": null,
   "metadata": {},
   "outputs": [],
   "source": [
    "# 1. Define the Level-Volume Curve\n",
    "# Represents a reservoir that gets wider as it gets deeper\n",
    "level_volume_curve = np.array([\n",
    "    [0.0,   10.0,    20.0],  # levels (m)\n",
    "    [0.0, 10000.0, 80000.0]  # volumes (m^3)\n",
    "])\n",
    "\n",
    "# 2. Model Initialization\n",
    "tank = NonlinearTank(\n",
    "    level_to_volume=level_volume_curve,\n",
    "    initial_level=5.0 # Start halfway to the first data point\n",
    ")\n",
    "\n",
    "# 3. Simulation Setup\n",
    "dt = 3600  # 1 hour\n",
    "n_steps = 100\n",
    "\n",
    "history = {\n",
    "    \"time\": [],\n",
    "    \"level\": [],\n",
    "    \"volume\": []\n",
    "}\n",
    "\n",
    "# 4. Simulation Loop\n",
    "for t in range(n_steps):\n",
    "    # Constant inflow\n",
    "    inflow = 10.0 # m^3/s\n",
    "    \n",
    "    # Set inputs\n",
    "    tank.input.inflow = inflow\n",
    "    tank.input.release_outflow = 0.0\n",
    "    \n",
    "    # Run model step\n",
    "    tank.step(dt=dt)\n",
    "    \n",
    "    # Record results\n",
    "    state = tank.get_state()\n",
    "    history[\"time\"].append(t)\n",
    "    history[\"level\"].append(state[\"level\"])\n",
    "    history[\"volume\"].append(state[\"volume\"])\n",
    "\n",
    "print(\"Simulation complete.\")"
   ]
  },
  {
   "cell_type": "markdown",
   "metadata": {},
   "source": [
    "## 4. Visualization\n",
    "\n",
    "Let's plot both the water level and the volume to see the nonlinear relationship."
   ]
  },
  {
   "cell_type": "code",
   "execution_count": null,
   "metadata": {},
   "outputs": [],
   "source": [
    "fig, ax1 = plt.subplots(figsize=(12, 6))\n",
    "\n",
    "# Plot Level\n",
    "color = 'tab:blue'\n",
    "ax1.set_xlabel('Time (hours)')\n",
    "ax1.set_ylabel('Water Level (m)', color=color)\n",
    "ax1.plot(history['time'], history['level'], color=color)\n",
    "ax1.tick_params(axis='y', labelcolor=color)\n",
    "\n",
    "# Plot Volume on a second y-axis\n",
    "ax2 = ax1.twinx()\n",
    "color = 'tab:red'\n",
    "ax2.set_ylabel('Storage Volume (m³)', color=color)\n",
    "ax2.plot(history['time'], history['volume'], color=color, linestyle='--')\n",
    "ax2.tick_params(axis='y', labelcolor=color)\n",
    "\n",
    "plt.title('NonlinearTank Simulation')\n",
    "fig.tight_layout()\n",
    "plt.show()"
   ]
  },
  {
   "cell_type": "markdown",
   "metadata": {},
   "source": [
    "The plot shows that as the tank fills, the rate of change of the water level (the slope of the blue line) decreases over time, even though the inflow (and thus the rate of volume change) is constant. This is because at higher levels, a larger volume of water is required to raise the level by one meter, which accurately reflects the behavior of a real-world reservoir."
   ]
  }
 ],
 "metadata": {
  "kernelspec": {
   "display_name": "Python 3",
   "language": "python",
   "name": "python3"
  },
  "language_info": {
   "codemirror_mode": {
    "name": "ipython",
    "version": 3
   },
   "file_extension": ".py",
   "mimetype": "text/x-python",
   "name": "python",
   "nbconvert_exporter": "python",
   "pygments_lexer": "ipython3",
   "version": "3.10.9"
  }
 },
 "nbformat": 4,
 "nbformat_minor": 4
}
