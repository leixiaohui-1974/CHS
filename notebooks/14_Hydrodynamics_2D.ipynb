{
 "cells": [
  {
   "cell_type": "markdown",
   "metadata": {},
   "source": [
    "# Core Model Guide: TwoDimensionalHydrodynamicModel\n",
    "\n",
    "This notebook provides a guide to the `TwoDimensionalHydrodynamicModel`, the most advanced hydraulic model in the CHS SDK. It solves the 2D Shallow Water Equations on an unstructured triangular mesh, making it suitable for detailed simulations of flood inundation, estuary dynamics, and other two-dimensional flow problems."
   ]
  },
  {
   "cell_type": "markdown",
   "metadata": {},
   "source": [
    "## 1. Theoretical Background\n",
    "\n",
    "The model is based on the 2D Saint-Venant equations (also known as the Shallow Water Equations), which conserve both mass and momentum in two dimensions (x and y). The solver uses a modern, robust **Finite Volume** method with an **HLLC Approximate Riemann Solver**. This allows it to handle complex situations like wetting and drying, and shocks (rapid changes in water level), making it very powerful.\n",
    "\n",
    "A key feature is its use of **unstructured meshes**, which allows it to represent complex geometries like winding rivers and floodplains much more efficiently than a simple rectangular grid."
   ]
  },
  {
   "cell_type": "markdown",
   "metadata": {},
   "source": [
    "## 2. API and Parameters\n",
    "\n",
    "The model is initialized by pointing it to a mesh file."
   ]
  },
  {
   "cell_type": "code",
   "execution_count": null,
   "metadata": {},
   "outputs": [],
   "source": [
    "import sys\n",
    "import os\n",
    "import matplotlib.pyplot as plt\n",
    "import numpy as np\n",
    "\n",
    "# Add the project root to the path\n",
    "sys.path.insert(0, os.path.abspath(os.path.join(os.getcwd(), '..')))\n",
    "\n",
    "from water_system_sdk.src.chs_sdk.modules.modeling.two_dimensional_hydrodynamic_model import TwoDimensionalHydrodynamicModel"
   ]
  },
  {
   "cell_type": "markdown",
   "metadata": {},
   "source": [
    "## 3. Code Example: Radial Dam Break (Column Collapse)\n",
    "\n",
    "A classic validation case for 2D shallow water models is the \"column collapse\" or \"radial dam break\". In this scenario, a cylinder of water in an otherwise dry, flat domain is instantaneously released. The water column collapses under gravity, sending out a circular wave.\n",
    "\n",
    "We will use the simple `square.msh` file we created for the domain."
   ]
  },
  {
   "cell_type": "code",
   "execution_count": null,
   "metadata": {},
   "outputs": [],
   "source": [
    "# 1. Initialize the Model\n",
    "mesh_file = '../data/meshes/square.msh'\n",
    "model = TwoDimensionalHydrodynamicModel(\n",
    "    mesh_file=mesh_file,\n",
    "    manning_n=0.02,\n",
    "    initial_h=0.1, # A small base water depth to keep cells wet\n",
    "    cfl=0.45\n",
    ")\n",
    "\n",
    "# 2. Set Initial Conditions for the Column Collapse\n",
    "dm = model.data_manager\n",
    "mesh = model.mesh\n",
    "\n",
    "# Find cell centers and their distance from the domain center (0.5, 0.5)\n",
    "domain_center = np.array([0.5, 0.5])\n",
    "distances = np.linalg.norm(mesh.cell_centers - domain_center, axis=1)\n",
    "\n",
    "# Define the water column: radius 0.2, height 1.0m\n",
    "column_radius = 0.2\n",
    "column_height = 1.0\n",
    "\n",
    "# Set the water depth 'h' array directly\n",
    "dm.h[distances < column_radius] = column_height\n",
    "\n",
    "# Update the Water Surface Elevation (WSE) after changing h\n",
    "dm.update_wse()\n",
    "\n",
    "print(\"Initial conditions set for column collapse.\")"
   ]
  },
  {
   "cell_type": "markdown",
   "metadata": {},
   "source": [
    "## 4. Running the Simulation and Visualizing\n",
    "\n",
    "We will run the simulation for a short period and plot the water surface at different times to see the wave propagate."
   ]
  },
  {
   "cell_type": "code",
   "execution_count": null,
   "metadata": {},
   "outputs": [],
   "source": [
    "def plot_state(model, ax, title):\n",
    "    \"\"\"Helper function to create a 2D plot of the water depth.\"\"\"\n",
    "    ax.set_aspect('equal')\n",
    "    # Use tripcolor for unstructured triangular meshes\n",
    "    tpc = ax.tripcolor(model.mesh.nodes[:, 0], model.mesh.nodes[:, 1], model.mesh.cells,\n",
    "                      facecolors=model.data_manager.h, cmap='viridis',\n",
    "                      vmin=0.1, vmax=1.0) # Set color limits\n",
    "    ax.set_title(title)\n",
    "    ax.set_xlabel('X coordinate')\n",
    "    ax.set_ylabel('Y coordinate')\n",
    "    return tpc\n",
    "\n",
    "# Create a figure to hold the plots\n",
    "fig, axes = plt.subplots(1, 4, figsize=(20, 5))\n",
    "\n",
    "# Plot Initial State (t=0)\n",
    "plot_state(model, axes[0], f\"Time = {model.current_time:.2f} s\")\n",
    "\n",
    "# --- Simulation Loop ---\n",
    "plot_times = [0.05, 0.1, 0.2] # Times at which we want to see the state\n",
    "plot_idx = 1\n",
    "\n",
    "total_duration = 0.25 # seconds\n",
    "dt = 0.01 # Main time step\n",
    "n_steps = int(total_duration / dt)\n",
    "\n",
    "for i in range(n_steps):\n",
    "    model.step(dt=dt)\n",
    "    \n",
    "    # If the current time is one of our plot times, create a plot\n",
    "    if plot_idx < len(plot_times) and model.current_time >= plot_times[plot_idx-1]:\n",
    "        plot_state(model, axes[plot_idx], f\"Time = {model.current_time:.2f} s\")\n",
    "        plot_idx += 1\n",
    "\n",
    "# Add a colorbar\n",
    "fig.colorbar(axes[3].collections[0], ax=axes.ravel().tolist(), label='Water Depth (m)')\n",
    "\n",
    "plt.tight_layout()\n",
    "plt.show()"
   ]
  },
  {
   "cell_type": "markdown",
   "metadata": {},
   "source": [
    "### Analysis of Results\n",
    "\n",
    "The plots show the initial column of water at t=0. As time progresses, the column collapses outward, creating a circular wave that propagates across the domain. This demonstrates the model's ability to correctly simulate 2D shallow water flow dynamics."
   ]
  }
 ],
 "metadata": {
  "kernelspec": {
   "display_name": "Python 3",
   "language": "python",
   "name": "python3"
  },
  "language_info": {
   "codemirror_mode": {
    "name": "ipython",
    "version": 3
   },
   "file_extension": ".py",
   "mimetype": "text/x-python",
   "name": "python",
   "nbconvert_exporter": "python",
   "pygments_lexer": "ipython3",
   "version": "3.10.9"
  }
 },
 "nbformat": 4,
 "nbformat_minor": 4
}
