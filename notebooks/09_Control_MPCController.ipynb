{
 "cells": [
  {
   "cell_type": "markdown",
   "metadata": {},
   "source": [
    "# Core Model Guide: MPCController\n",
    "\n",
    "This notebook provides a guide to the `MPCController`, an advanced control model in the CHS SDK that uses **Model Predictive Control**."
   ]
  },
  {
   "cell_type": "markdown",
   "metadata": {},
   "source": [
    "## 1. Theoretical Background\n",
    "\n",
    "Model Predictive Control (MPC) is a modern control strategy that uses an explicit model of the system it is controlling (the \"plant\") to make predictions about the system's future behavior.\n",
    "\n",
    "At each time step, the MPC controller performs the following actions:\n",
    "1.  **Measures** the current state of the system.\n",
    "2.  **Predicts** the system's future behavior over a certain time window, called the **Prediction Horizon (P)**, using its internal model.\n",
    "3.  **Optimizes** a sequence of future control moves over a **Control Horizon (M)** to minimize an objective function. The objective function typically penalizes deviations from the setpoint and excessive control effort.\n",
    "4.  **Executes** only the *first* control move from the optimized sequence.\n",
    "5.  **Repeats** the entire process at the next time step (this is known as a receding horizon strategy).\n",
    "\n",
    "MPC is powerful because it can handle constraints (e.g., max pump flow) and can proactively respond to forecasted disturbances."
   ]
  },
  {
   "cell_type": "markdown",
   "metadata": {},
   "source": [
    "## 2. API and Parameters\n",
    "\n",
    "The `MPCController` in the CHS SDK is a linear MPC, meaning it linearizes its internal model at each step to create a convex optimization problem."
   ]
  },
  {
   "cell_type": "code",
   "execution_count": null,
   "metadata": {},
   "outputs": [],
   "source": [
    "import sys\n",
    "import os\n",
    "import matplotlib.pyplot as plt\n",
    "import numpy as np\n",
    "\n",
    "# Add the project root to the path\n",
    "sys.path.insert(0, os.path.abspath(os.path.join(os.getcwd(), '..')))\n",
    "\n",
    "from water_system_sdk.src.chs_sdk.modules.control.mpc_controller import MPCController\n",
    "from water_system_sdk.src.chs_sdk.modules.modeling.storage_models import LinearTank"
   ]
  },
  {
   "cell_type": "markdown",
   "metadata": {},
   "source": [
    "The `MPCController` is initialized with:\n",
    "\n",
    "- `prediction_model` (BaseModel): An instance of a model that the MPC will use for its internal predictions. **This is the most important parameter.**\n",
    "- `prediction_horizon` (int): The number of future steps (P) to predict.\n",
    "- `control_horizon` (int): The number of future control moves (M) to optimize.\n",
    "- `set_point` (float): The target value.\n",
    "- `q_weight` (float): The weight on the setpoint deviation penalty.\n",
    "- `r_weight` (float): The weight on the control effort penalty.\n",
    "- `u_min`, `u_max` (float): Constraints on the control output."
   ]
  },
  {
   "cell_type": "markdown",
   "metadata": {},
   "source": [
    "## 3. Code Example: Controlling a Tank with MPC\n",
    "\n",
    "We will use the same `LinearTank` system from the PID tutorial, but this time we will control it with MPC. This allows for a direct comparison."
   ]
  },
  {
   "cell_type": "code",
   "execution_count": null,
   "metadata": {},
   "outputs": [],
   "source": [
    "# 1. Create the \"real world\" system to be controlled\n",
    "real_tank = LinearTank(area=1000.0, initial_level=2.0)\n",
    "\n",
    "# 2. Create a separate, identical model for the MPC to use for prediction\n",
    "prediction_model_for_mpc = LinearTank(area=1000.0, initial_level=2.0)\n",
    "\n",
    "# 3. Initialize the MPC Controller\n",
    "mpc_controller = MPCController(\n",
    "    prediction_model=prediction_model_for_mpc,\n",
    "    prediction_horizon=10, # Predict 10 steps into the future\n",
    "    control_horizon=3,     # Optimize the next 3 control moves\n",
    "    set_point=10.0,        # Target level is 10m\n",
    "    q_weight=1.0,          # Penalty on deviation from setpoint\n",
    "    r_weight=0.5,          # Penalty on control effort (to prevent aggressive changes)\n",
    "    u_min=0.0              # Inflow cannot be negative\n",
    ")\n",
    "\n",
    "# 4. Simulation Setup\n",
    "dt = 1.0\n",
    "n_steps = 200\n",
    "history = {\"time\": [], \"level\": [], \"inflow\": []}\n",
    "\n",
    "# 5. Simulation Loop\n",
    "for t in range(n_steps):\n",
    "    # Get current state from the \"real\" tank\n",
    "    current_level = real_tank.level\n",
    "    \n",
    "    # MPC calculates the optimal control action\n",
    "    # We are not providing a disturbance forecast in this simple example\n",
    "    control_output = mpc_controller.step(current_state=current_level)\n",
    "    \n",
    "    # Apply the control action to the real tank\n",
    "    real_tank.input.inflow = control_output\n",
    "    real_tank.step(dt=dt)\n",
    "    \n",
    "    # Record results\n",
    "    history[\"time\"].append(t)\n",
    "    history[\"level\"].append(real_tank.level)\n",
    "    history[\"inflow\"].append(control_output)\n",
    "\n",
    "print(\"Simulation complete.\")"
   ]
  },
  {
   "cell_type": "markdown",
   "metadata": {},
   "source": [
    "## 4. Visualization"
   ]
  },
  {
   "cell_type": "code",
   "execution_count": null,
   "metadata": {},
   "outputs": [],
   "source": [
    "fig, ax1 = plt.subplots(figsize=(12, 6))\n",
    "\n",
    "# Plot Level\n",
    "color = 'tab:blue'\n",
    "ax1.set_xlabel('Time (s)')\n",
    "ax1.set_ylabel('Water Level (m)', color=color)\n",
    "ax1.plot(history['time'], history['level'], color=color, label='Water Level (MPC)')\n",
    "ax1.axhline(y=10.0, color='r', linestyle='--', label='Setpoint (10.0m)')\n",
    "ax1.tick_params(axis='y', labelcolor=color)\n",
    "ax1.legend(loc='lower right')\n",
    "ax1.grid(True)\n",
    "\n",
    "# Plot control action (inflow)\n",
    "ax2 = ax1.twinx()\n",
    "color = 'tab:green'\n",
    "ax2.set_ylabel('Control Inflow (m³/s)', color=color)\n",
    "ax2.plot(history['time'], history['inflow'], color=color, linestyle=':', label='MPC Control Action')\n",
    "ax2.tick_params(axis='y', labelcolor=color)\n",
    "ax2.legend(loc='upper right')\n",
    "\n",
    "plt.title('MPC Control of Reservoir Water Level')\n",
    "fig.tight_layout()\n",
    "plt.show()"
   ]
  },
  {
   "cell_type": "markdown",
   "metadata": {},
   "source": [
    "### Analysis of Results\n",
    "\n",
    "The plot shows that the `MPCController` also successfully brings the water level to the setpoint. Compared to a well-tuned PID, the MPC's response can be smoother and less prone to overshoot because it can \"see\" into the future. By adjusting the weights `q_weight` and `r_weight`, you can trade off between how quickly the system reaches the setpoint versus how much control effort (e.g., energy for pumping) is used."
   ]
  }
 ],
 "metadata": {
  "kernelspec": {
   "display_name": "Python 3",
   "language": "python",
   "name": "python3"
  },
  "language_info": {
   "codemirror_mode": {
    "name": "ipython",
    "version": 3
   },
   "file_extension": ".py",
   "mimetype": "text/x-python",
   "name": "python",
   "nbconvert_exporter": "python",
   "pygments_lexer": "ipython3",
   "version": "3.10.9"
  }
 },
 "nbformat": 4,
 "nbformat_minor": 4
}
