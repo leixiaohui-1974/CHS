{
 "cells": [
  {
   "cell_type": "markdown",
   "metadata": {},
   "source": [
    "# System Identification Guide: RecursiveLeastSquaresAgent\n",
    "\n",
    "This notebook provides a guide to the `RecursiveLeastSquaresAgent`. This agent is a powerful tool for **online parameter estimation**. It can observe the input and output of a system in real-time and continuously update its estimate of the system's underlying parameters."
   ]
  },
  {
   "cell_type": "markdown",
   "metadata": {},
   "source": [
    "## 1. Theoretical Background\n",
    "\n",
    "**Recursive Least Squares (RLS)** is an adaptive filter algorithm that recursively finds the coefficients that minimize a weighted linear least squares cost function. It's \"recursive\" because it doesn't need to process the entire history of data at each step; instead, it just needs its previous estimate and the newest data point to update its guess.\n",
    "\n",
    "The `RLSAgent` in the CHS SDK is specifically designed to identify the parameters of a first-order linear system described by the equation:\n",
    "\n",
    "`y(k) = a₁ * y(k-1) + b₁ * u(k-1)`\n",
    "\n",
    "Where `y` is the system's output (e.g., outflow), `u` is the system's input (e.g., inflow), and `a₁` and `b₁` are the unknown parameters the agent tries to estimate."
   ]
  },
  {
   "cell_type": "code",
   "execution_count": null,
   "metadata": {},
   "outputs": [],
   "source": [
    "import sys\n",
    "import os\n",
    "import matplotlib.pyplot as plt\n",
    "import numpy as np\n",
    "\n",
    "# Add the project root to the path\n",
    "sys.path.insert(0, os.path.abspath(os.path.join(os.getcwd(), '..')))\n",
    "\n",
    "from water_system_sdk.src.chs_sdk.modules.control.rls_estimator import RecursiveLeastSquaresAgent"
   ]
  },
  {
   "cell_type": "markdown",
   "metadata": {},
   "source": [
    "## 2. Code Example: Estimating a System's Parameters\n",
    "\n",
    "We will create a \"virtual\" system with known `a₁` and `b₁` parameters. Then, we will generate a random input signal `u` and calculate the corresponding output `y`. We will feed this input/output data to the `RLSAgent` at each time step and watch as its parameter estimates converge to the true values."
   ]
  },
  {
   "cell_type": "code",
   "execution_count": null,
   "metadata": {},
   "outputs": [],
   "source": [
    "# 1. Define the \"True\" System and the RLS Agent\n",
    "true_a1 = 0.95\n",
    "true_b1 = 0.5\n",
    "\n",
    "rls_agent = RecursiveLeastSquaresAgent(\n",
    "    initial_params={\"a1\": 0.0, \"b1\": 0.0}, # Start with no knowledge\n",
    "    forgetting_factor=0.99\n",
    ")\n",
    "\n",
    "# 2. Simulation Setup\n",
    "n_steps = 100\n",
    "u_signal = np.random.rand(n_steps) * 10 # A random input signal\n",
    "y_signal = np.zeros(n_steps)\n",
    "y_prev = 0\n",
    "u_prev = 0\n",
    "\n",
    "history = {\n",
    "    \"a1_estimate\": [],\n",
    "    \"b1_estimate\": []\n",
    "}\n",
    "\n",
    "# 3. Simulation Loop\n",
    "for k in range(n_steps):\n",
    "    # Simulate the \"true\" system to get the current output\n",
    "    y_signal[k] = true_a1 * y_prev + true_b1 * u_prev\n",
    "    \n",
    "    # Feed the current input and output to the RLS agent\n",
    "    rls_agent.step(inflow=u_signal[k], observed_outflow=y_signal[k])\n",
    "    \n",
    "    # Get the agent's current best guess\n",
    "    current_estimates = rls_agent.get_state()\n",
    "    \n",
    "    # Record history\n",
    "    history[\"a1_estimate\"].append(current_estimates['a1'])\n",
    "    history[\"b1_estimate\"].append(current_estimates['b1'])\n",
    "    \n",
    "    # Update state for the next iteration\n",
    "    y_prev = y_signal[k]\n",
    "    u_prev = u_signal[k]\n",
    "\n",
    "print(\"Simulation complete.\")\n",
    "print(f\"Final a1 estimate: {history['a1_estimate'][-1]:.4f} (True value: {true_a1})\")\n",
    "print(f\"Final b1 estimate: {history['b1_estimate'][-1]:.4f} (True value: {true_b1})\")"
   ]
  },
  {
   "cell_type": "markdown",
   "metadata": {},
   "source": [
    "## 4. Visualization\n",
    "\n",
    "Plotting the estimated parameters over time shows how the RLS algorithm converges."
   ]
  },
  {
   "cell_type": "code",
   "execution_count": null,
   "metadata": {},
   "outputs": [],
   "source": [
    "time_axis = np.arange(n_steps)\n",
    "\n",
    "plt.figure(figsize=(12, 6))\n",
    "plt.plot(time_axis, history['a1_estimate'], label='a1 Estimate')\n",
    "plt.axhline(y=true_a1, color='r', linestyle='--', label=f'True a1 = {true_a1}')\n",
    "plt.plot(time_axis, history['b1_estimate'], label='b1 Estimate')\n",
    "plt.axhline(y=true_b1, color='g', linestyle='--', label=f'True b1 = {true_b1}')\n",
    "\n",
    "plt.title('RLS Parameter Estimation Over Time')\n",
    "plt.xlabel('Time Step (k)')\n",
    "plt.ylabel('Parameter Value')\n",
    "plt.legend()\n",
    "plt.grid(True)\n",
    "plt.ylim(0, 1.2) # Set y-axis limits for better visualization\n",
    "plt.show()"
   ]
  },
  {
   "cell_type": "markdown",
   "metadata": {},
   "source": [
    "The plot shows that, starting from zero, the agent's estimates for `a₁` and `b₁` rapidly converge towards their true values. This demonstrates the power of the `RecursiveLeastSquaresAgent` to learn the dynamics of a system from its input-output data."
   ]
  }
 ],
 "metadata": {
  "kernelspec": {
   "display_name": "Python 3",
   "language": "python",
   "name": "python3"
  },
  "language_info": {
   "codemirror_mode": {
    "name": "ipython",
    "version": 3
   },
   "file_extension": ".py",
   "mimetype": "text/x-python",
   "name": "python",
   "nbconvert_exporter": "python",
   "pygments_lexer": "ipython3",
   "version": "3.10.9"
  }
 },
 "nbformat": 4,
 "nbformat_minor": 4
}
