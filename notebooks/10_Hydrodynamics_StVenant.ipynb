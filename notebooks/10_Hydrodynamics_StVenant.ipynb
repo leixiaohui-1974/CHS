{
 "cells": [
  {
   "cell_type": "markdown",
   "metadata": {},
   "source": [
    "# Core Model Guide: StVenantModel (1D Hydrodynamics)\n",
    "\n",
    "This notebook provides a guide to the `StVenantModel`, the most advanced 1D hydraulic model in the CHS SDK. It is used for high-fidelity simulation of unsteady flow in networks of open channels."
   ]
  },
  {
   "cell_type": "markdown",
   "metadata": {},
   "source": [
    "## 1. Theoretical Background\n",
    "\n",
    "This model solves the **Saint-Venant equations**, which are a set of nonlinear partial differential equations that describe the flow of water in an open channel. They are derived from the principles of conservation of mass and conservation of momentum.\n",
    "\n",
    "Unlike simpler routing models (like the Muskingum model), the St. Venant model can simulate a wide range of dynamic effects, including:\n",
    "- Backwater effects (downstream conditions affecting upstream flow).\n",
    "- Wave propagation and reflection.\n",
    "- Supercritical and subcritical flow regimes.\n",
    "\n",
    "The CHS SDK implementation solves these equations for an entire **network** of channels (`Reaches`) and junctions (`Nodes`), making it a powerful tool for complex system simulation."
   ]
  },
  {
   "cell_type": "markdown",
   "metadata": {},
   "source": [
    "## 2. API and Parameters\n",
    "\n",
    "The `StVenantModel` is a high-level wrapper. It is initialized by providing data that defines the network structure, rather than simple numerical parameters."
   ]
  },
  {
   "cell_type": "code",
   "execution_count": null,
   "metadata": {},
   "outputs": [],
   "source": [
    "import sys\n",
    "import os\n",
    "import matplotlib.pyplot as plt\n",
    "import numpy as np\n",
    "import pandas as pd\n",
    "\n",
    "# Add the project root to the path\n",
    "sys.path.insert(0, os.path.abspath(os.path.join(os.getcwd(), '..')))\n",
    "\n",
    "from water_system_sdk.src.chs_sdk.modules.modeling.st_venant_model import StVenantModel"
   ]
  },
  {
   "cell_type": "markdown",
   "metadata": {},
   "source": [
    "The constructor takes three main arguments:\n",
    "\n",
    "- `nodes_data` (List[Dict]): A list where each dictionary defines a node. A node can be a `junction`, an `inflow` boundary, or a `level` boundary.\n",
    "- `reaches_data` (List[Dict]): A list where each dictionary defines a channel reach, including its geometry (length, slope, etc.) and which nodes it connects.\n",
    "- `structures_data` (List[Dict], optional): A list defining any hydraulic structures like weirs or gates in the network."
   ]
  },
  {
   "cell_type": "markdown",
   "metadata": {},
   "source": [
    "## 3. Code Example: Two Reservoirs Connected by a Channel\n",
    "\n",
    "We will create a simple network with two reservoirs (represented by `LevelBoundary` nodes) connected by a single channel (`Reach`). We will set one reservoir to a higher water level than the other and observe as the system dynamically seeks equilibrium."
   ]
  },
  {
   "cell_type": "code",
   "execution_count": null,
   "metadata": {},
   "outputs": [],
   "source": [
    "# 1. Define the Network Configuration\n",
    "nodes = [\n",
    "    # Upstream reservoir with a fixed high water level\n",
    "    {\"name\": \"n_up\", \"type\": \"level\", \"level\": 10.0, \"bed_elevation\": 0.0},\n",
    "    # Downstream reservoir with a fixed low water level\n",
    "    {\"name\": \"n_down\", \"type\": \"level\", \"level\": 8.0, \"bed_elevation\": 0.0}\n",
    "]\n",
    "\n",
    "reaches = [\n",
    "    {\n",
    "        \"name\": \"r1\",\n",
    "        \"from_node\": \"n_up\",\n",
    "        \"to_node\": \"n_down\",\n",
    "        \"length\": 1000.0, # 1km long channel\n",
    "        \"manning_coefficient\": 0.03,\n",
    "        \"bottom_width\": 10.0,\n",
    "        \"side_slope\": 1.0, # Trapezoidal channel\n",
    "        \"bed_slope\": 0.001,\n",
    "        \"discharge\": 0.0 # Start with no flow\n",
    "    }\n",
    "]\n",
    "\n",
    "# 2. Initialize the Model\n",
    "model = StVenantModel(nodes_data=nodes, reaches_data=reaches)\n",
    "\n",
    "# 3. Simulation Setup\n",
    "dt = 10.0 # 10-second time step\n",
    "n_steps = 200\n",
    "history = []\n",
    "\n",
    "# 4. Simulation Loop\n",
    "print(\"Starting simulation...\")\n",
    "for t in range(n_steps):\n",
    "    # Run one step of the solver\n",
    "    model.step(dt=dt)\n",
    "    \n",
    "    # Record the state\n",
    "    state = model.get_state()\n",
    "    state['time'] = t * dt\n",
    "    history.append(state)\n",
    "\n",
    "print(\"Simulation complete.\")"
   ]
  },
  {
   "cell_type": "markdown",
   "metadata": {},
   "source": [
    "## 4. Visualization\n",
    "\n",
    "We can now process the history and plot the discharge in the connecting channel over time."
   ]
  },
  {
   "cell_type": "code",
   "execution_count": null,
   "metadata": {},
   "outputs": [],
   "source": [
    "# Extract the discharge history for reach 'r1'\n",
    "time_series = [s['time'] for s in history]\n",
    "discharge_series = [s['reaches']['r1']['discharge'] for s in history]\n",
    "\n",
    "plt.figure(figsize=(12, 6))\n",
    "plt.plot(time_series, discharge_series, label='Discharge in Channel r1')\n",
    "\n",
    "plt.title('Dynamic Flow Between Two Reservoirs')\n",
    "plt.xlabel('Time (s)')\n",
    "plt.ylabel('Discharge (m³/s)')\n",
    "plt.legend()\n",
    "plt.grid(True)\n",
    "plt.show()"
   ]
  },
  {
   "cell_type": "markdown",
   "metadata": {},
   "source": [
    "### Analysis of Results\n",
    "\n",
    "The plot shows that initially, there is a large flow from the upstream reservoir to the downstream one due to the large head difference. As the simulation progresses, the system stabilizes, and the flow rate settles at a constant value, representing the steady-state flow for this particular channel geometry and boundary conditions. \n",
    "\n",
    "This example demonstrates how the `StVenantModel` can be used to simulate the dynamic hydraulic interactions in a network."
   ]
  }
 ],
 "metadata": {
  "kernelspec": {
   "display_name": "Python 3",
   "language": "python",
   "name": "python3"
  },
  "language_info": {
   "codemirror_mode": {
    "name": "ipython",
    "version": 3
   },
   "file_extension": ".py",
   "mimetype": "text/x-python",
   "name": "python",
   "nbconvert_exporter": "python",
   "pygments_lexer": "ipython3",
   "version": "3.10.9"
  }
 },
 "nbformat": 4,
 "nbformat_minor": 4
}
