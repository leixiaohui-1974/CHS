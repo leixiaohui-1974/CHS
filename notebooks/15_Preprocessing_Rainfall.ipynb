{
 "cells": [
  {
   "cell_type": "markdown",
   "metadata": {},
   "source": [
    "# Preprocessing Guide: RainfallProcessor\n",
    "\n",
    "This notebook describes the `RainfallProcessor`, a component designed for spatial interpolation of rainfall data. \n",
    "\n",
    "**Note:** As of the current version, this feature is incomplete due to missing dependencies and cannot be run. This document serves as a record of its intended design and a guide for future development."
   ]
  },
  {
   "cell_type": "markdown",
   "metadata": {},
   "source": [
    "## 1. Intended Purpose\n",
    "\n",
    "Hydrological simulations often require rainfall data for specific points (like the center of a sub-basin), but real-world data usually comes from a sparse network of rain gauges.\n",
    "\n",
    "The `RainfallProcessor` was designed to bridge this gap. Its purpose is to take data from multiple rain gauges and use a mathematical interpolation strategy (like Inverse Distance Weighting or Thiessen Polygons) to estimate the rainfall at any number of target locations. \n",
    "\n",
    "This process is intended to be run once, before the main simulation loop, to generate a complete rainfall time series for all necessary locations."
   ]
  },
  {
   "cell_type": "markdown",
   "metadata": {},
   "source": [
    "## 2. Current Status & Missing Components\n",
    "\n",
    "The `RainfallProcessor` class exists in `chs_sdk.preprocessing.rainfall_processor`. However, it requires an **interpolation strategy** object to be passed to its constructor. \n",
    "\n",
    "The `ComponentRegistry` in `simulation_manager.py` shows that classes like `InverseDistanceWeightingInterpolator` were intended to exist in a file named `chs_sdk.preprocessing.interpolators.py`. \n",
    "\n",
    "**This file is currently missing from the repository.**\n",
    "\n",
    "Without these interpolation strategy classes, the `RainfallProcessor` cannot be instantiated or used. The code below is a hypothetical example of how it *would* be used if the missing components were implemented."
   ]
  },
  {
   "cell_type": "markdown",
   "metadata": {},
   "source": [
    "## 3. Hypothetical Code Example\n",
    "\n",
    "Below is an example of how one might configure and run the `RainfallProcessor` in a YAML file for the `SimulationManager`. **This code will not run.**"
   ]
  },
  {
   "cell_type": "code",
   "execution_count": null,
   "metadata": {},
   "outputs": [],
   "source": [
    "# HYPOTHETICAL YAML CONFIG - WILL NOT RUN\n",
    "\n",
    "datasets:\n",
    "  rain_gauges:\n",
    "    - id: 'gauge_A'\n",
    "      coords: [10, 20]\n",
    "      time_series_path: 'data/rain_gauge_A.csv'\n",
    "    - id: 'gauge_B'\n",
    "      coords: [50, 60]\n",
    "      time_series_path: 'data/rain_gauge_B.csv'\n",
    "\n",
    "components:\n",
    "  rainfall_interpolator:\n",
    "    type: RainfallProcessor\n",
    "    params:\n",
    "      source_dataset: 'rain_gauges' # Key from the datasets section\n",
    "      strategy: \n",
    "        type: InverseDistanceWeightingInterpolator # This class is missing\n",
    "        params:\n",
    "          power: 2\n",
    "\n",
    "  my_hydrology_model:\n",
    "    type: SemiDistributedHydrologyModel\n",
    "    # ... other params\n",
    "    # This model would then be able to access the interpolated rainfall\n",
    "    # from the 'rainfall_interpolator' component.\n",
    "\n",
    "# The processor would be run before the main simulation\n",
    "preprocessing:\n",
    "  - rainfall_interpolator\n",
    "\n",
    "execution_order:\n",
    "  - my_hydrology_model\n"
   ]
  },
  {
   "cell_type": "markdown",
   "metadata": {},
   "source": [
    "### Path Forward\n",
    "\n",
    "To make this feature functional, the following steps are required:\n",
    "1. Create the `water_system_sdk/src/chs_sdk/preprocessing/interpolators.py` file.\n",
    "2. Implement the `BaseSpatialInterpolator` abstract base class.\n",
    "3. Implement concrete strategies like `InverseDistanceWeightingInterpolator` and `ThiessenPolygonInterpolator`."
   ]
  }
 ],
 "metadata": {
  "kernelspec": {
   "display_name": "Python 3",
   "language": "python",
   "name": "python3"
  },
  "language_info": {
   "codemirror_mode": {
    "name": "ipython",
    "version": 3
   },
   "file_extension": ".py",
   "mimetype": "text/x-python",
   "name": "python",
   "nbconvert_exporter": "python",
   "pygments_lexer": "ipython3",
   "version": "3.10.9"
  }
 },
 "nbformat": 4,
 "nbformat_minor": 4
}
