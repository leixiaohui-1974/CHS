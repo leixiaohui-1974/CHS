{
 "cells": [
  {
   "cell_type": "markdown",
   "metadata": {},
   "source": [
    "# Preprocessing Guide: RainfallProcessor\n",
    "\n",
    "This notebook provides a guide to the `RainfallProcessor`, a component designed for **spatial interpolation of rainfall data**. This is a critical preprocessing step for distributed hydrological models, which require rainfall inputs at specific points (e.g., the center of a sub-basin), whereas real-world data typically comes from a sparse network of rain gauges."
   ]
  },
  {
   "cell_type": "markdown",
   "metadata": {},
   "source": [
    "## 1. How It Works\n",
    "\n",
    "The `RainfallProcessor` is a special component that runs *before* the main simulation loop. It is designed to be listed in the `preprocessing` section of a simulation configuration.\n",
    "\n",
    "Its workflow is:\n",
    "1.  It reads the locations and time series data paths for several **rain gauges** from the `datasets` section of the config.\n",
    "2.  It identifies all components in the simulation that need rainfall data (e.g., hydrological models) and gets their coordinates.\n",
    "3.  It uses a specified **interpolation strategy** (like Inverse Distance Weighting) to calculate the rainfall at each target location for every timestamp present in the gauge data.\n",
    "4.  The final result is a single DataFrame of interpolated rainfall time series, which can then be used by other models during the main simulation."
   ]
  },
  {
   "cell_type": "markdown",
   "metadata": {},
   "source": [
    "## 2. Code Example: Interpolating a Rainfall Field\n",
    "\n",
    "We will demonstrate a complete example using the `SimulationManager`. We will define a set of rain gauges and a mock hydrological model with target sub-basins. Then, we will run the `RainfallProcessor` and inspect its output."
   ]
  },
  {
   "cell_type": "code",
   "execution_count": null,
   "metadata": {},
   "outputs": [],
   "source": [
    "import sys\n",
    "import os\n",
    "import yaml\n",
    "import numpy as np\n",
    "import pandas as pd\n",
    "\n",
    "# Add the project root to the path\n",
    "sys.path.insert(0, os.path.abspath(os.path.join(os.getcwd(), '..')))\n",
    "\n",
    "from water_system_sdk.src.chs_sdk.simulation_manager import SimulationManager"
   ]
  },
  {
   "cell_type": "markdown",
   "metadata": {},
   "source": [
    "### Setting up the YAML Configuration\n",
    "\n",
    "We will define a full simulation configuration in YAML. This includes the `datasets` block for our rain gauges and a `preprocessing` block to tell the `SimulationManager` to run our `RainfallProcessor`."
   ]
  },
  {
   "cell_type": "code",
   "execution_count": null,
   "metadata": {},
   "outputs": [],
   "source": [
    "# We use an object for the mock sub-basins to make them accessible later\n",
    "class MockSubBasin:\n",
    "    def __init__(self, id, coords):\n",
    "        self.id = id\n",
    "        self.coords = coords\n",
    "\n",
    "# Define the configuration as a string\n",
    "config_yaml = \"\"\"\n",
    "datasets:\n",
    "  rain_gauges:\n",
    "    - id: 'station_A'\n",
    "      coords: [0, 0]\n",
    "      time_series_path: '../data/rain_gauges/station_A.csv'\n",
    "    - id: 'station_B'\n",
    "      coords: [10, 10]\n",
    "      time_series_path: '../data/rain_gauges/station_B.csv'\n",
    "    - id: 'station_C'\n",
    "      coords: [0, 10]\n",
    "      time_series_path: '../data/rain_gauges/station_C.csv'\n",
    "\n",
    "components:\n",
    "  # The processor itself is a component\n",
    "  rainfall_processor:\n",
    "    type: RainfallProcessor\n",
    "    params:\n",
    "      source_dataset: 'rain_gauges'\n",
    "      strategy:\n",
    "        type: InverseDistanceWeightingInterpolator\n",
    "        params:\n",
    "          power: 2\n",
    "  \n",
    "  # A mock hydrology model that has sub-basins needing rainfall data\n",
    "  hydro_model:\n",
    "    type: SemiDistributedHydrologyModel # This is just a placeholder type\n",
    "    params:\n",
    "      sub_basins: !python/object:__main__.create_sub_basins []\n",
    "\n",
    "# Define which components to run before the main simulation\n",
    "preprocessing:\n",
    "  - rainfall_processor\n",
    "\n",
    "# No execution order needed as we are only running the preprocessing step\n",
    "execution_order: []\n",
    "simulation_params:\n",
    "  total_time: 1\n",
    "  dt: 1\n",
    "\"\"\"\n",
    "\n",
    "# Helper function to be called by the YAML loader\n",
    "def create_sub_basins():\n",
    "    return [\n",
    "        MockSubBasin(id='basin1', coords=(2, 2)),\n",
    "        MockSubBasin(id='basin2', coords=(8, 8))\n",
    "    ]\n",
    "\n",
    "# Add a constructor for our python object\n",
    "yaml.add_constructor('!python/object:__main__.create_sub_basins', lambda l, n: create_sub_basins(), Loader=yaml.SafeLoader)\n",
    "\n",
    "# Load the config\n",
    "config = yaml.safe_load(config_yaml)\n"
   ]
  },
  {
   "cell_type": "markdown",
   "metadata": {},
   "source": [
    "### Running the Preprocessing Step\n",
    "\n",
    "Now we can instantiate the `SimulationManager` with this configuration. The manager will automatically run the `rainfall_processor` because it's listed in the `preprocessing` section."
   ]
  },
  {
   "cell_type": "code",
   "execution_count": null,
   "metadata": {},
   "outputs": [],
   "source": [
    "# This is a workaround because the mock hydro model isn't a real component\n",
    "# In a real scenario, the model would be in the registry.\n",
    "from chs_sdk.modules.modeling.hydrology.semi_distributed import SemiDistributedHydrologyModel\n",
    "from chs_sdk.simulation_manager import ComponentRegistry\n",
    "ComponentRegistry._CLASS_MAP['SemiDistributedHydrologyModel'] = SemiDistributedHydrologyModel\n",
    "\n",
    "# Instantiate the manager. This will run the preprocessing step.\n",
    "manager = SimulationManager(config)\n",
    "\n",
    "# Get the processor component to inspect its output\n",
    "processor = manager.components['rainfall_processor']\n",
    "\n",
    "# The result is a pandas DataFrame\n",
    "interpolated_data = processor.interpolated_rainfall\n",
    "\n",
    "print(\"Interpolated Rainfall Data:\")\n",
    "interpolated_data"
   ]
  },
  {
   "cell_type": "markdown",
   "metadata": {},
   "source": [
    "The output DataFrame shows the calculated rainfall for our two target basins at each timestamp from the source files. This demonstrates that the `RainfallProcessor` has successfully taken scattered point data and created a complete time series for the locations required by the simulation models."
   ]
  }
 ],
 "metadata": {
  "kernelspec": {
   "display_name": "Python 3",
   "language": "python",
   "name": "python3"
  },
  "language_info": {
   "codemirror_mode": {
    "name": "ipython",
    "version": 3
   },
   "file_extension": ".py",
   "mimetype": "text/x-python",
   "name": "python",
   "nbconvert_exporter": "python",
   "pygments_lexer": "ipython3",
   "version": "3.10.9"
  }
 },
 "nbformat": 4,
 "nbformat_minor": 4
}
