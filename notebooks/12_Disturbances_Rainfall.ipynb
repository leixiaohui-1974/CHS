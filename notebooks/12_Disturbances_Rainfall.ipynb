{
 "cells": [
  {
   "cell_type": "markdown",
   "metadata": {},
   "source": [
    "# Disturbance & Event Guides: RainfallAgent\n",
    "\n",
    "This notebook provides a guide to the `RainfallAgent`. This agent is used to simulate a rainfall event by providing a time series of precipitation data to the simulation."
   ]
  },
  {
   "cell_type": "markdown",
   "metadata": {},
   "source": [
    "## 1. How It Works\n",
    "\n",
    "The `RainfallAgent` is a simple disturbance agent. It is initialized with a `rainfall_pattern`, which is a list of rainfall depth values (e.g., in mm). At each time step of the simulation, the agent outputs the next value from this list. \n",
    "\n",
    "This agent is designed to be connected to a hydrology model (like `SCSRunoffModel` or `XinanjiangModel`) to simulate the process of runoff generation from rainfall."
   ]
  },
  {
   "cell_type": "code",
   "execution_count": null,
   "metadata": {},
   "outputs": [],
   "source": [
    "import sys\n",
    "import os\n",
    "import matplotlib.pyplot as plt\n",
    "import numpy as np\n",
    "\n",
    "# Add the project root to the path\n",
    "sys.path.insert(0, os.path.abspath(os.path.join(os.getcwd(), '..')))\n",
    "\n",
    "from water_system_sdk.src.chs_sdk.modules.disturbances.agents import RainfallAgent\n",
    "from water_system_sdk.src.chs_sdk.modules.modeling.hydrology.runoff_models import SCSRunoffModel"
   ]
  },
  {
   "cell_type": "markdown",
   "metadata": {},
   "source": [
    "## 2. Code Example: A Complete Rainfall-Runoff Simulation\n",
    "\n",
    "We will create a full simulation that connects a `RainfallAgent` to an `SCSRunoffModel`. This will show the end-to-end process of converting a storm event into a runoff hydrograph."
   ]
  },
  {
   "cell_type": "code",
   "execution_count": null,
   "metadata": {},
   "outputs": [],
   "source": [
    "# 1. Define the rainfall pattern (a simple storm hyetograph)\n",
    "rainfall_pattern = [0, 0, 5, 10, 15, 25, 18, 12, 8, 4, 2, 1, 0, 0]\n",
    "\n",
    "# 2. Initialize the models\n",
    "rainfall_agent = RainfallAgent(rainfall_pattern=rainfall_pattern)\n",
    "scs_model = SCSRunoffModel()\n",
    "\n",
    "# 3. Simulation Setup\n",
    "dt = 1.0 # Assume 1-hour time step, matching the pattern\n",
    "n_steps = len(rainfall_pattern)\n",
    "scs_params = {\"CN\": 85} # High runoff potential\n",
    "\n",
    "history = {\n",
    "    \"time\": list(range(n_steps)),\n",
    "    \"rainfall\": [],\n",
    "    \"runoff\": []\n",
    "}\n",
    "\n",
    "# 4. Simulation Loop\n",
    "for t in range(n_steps):\n",
    "    # Get the current rainfall from the agent\n",
    "    rainfall_agent.step(t=t, dt=dt)\n",
    "    current_rainfall = rainfall_agent.output\n",
    "    \n",
    "    # Use the rainfall as input to the SCS model\n",
    "    current_runoff = scs_model.calculate_runoff(\n",
    "        rainfall=current_rainfall, \n",
    "        sub_basin_params=scs_params, \n",
    "        dt=dt\n",
    "    )\n",
    "    \n",
    "    # Record results\n",
    "    history[\"rainfall\"].append(current_rainfall)\n",
    "    history[\"runoff\"].append(current_runoff)\n",
    "\n",
    "print(\"Simulation complete.\")"
   ]
  },
  {
   "cell_type": "markdown",
   "metadata": {},
   "source": [
    "## 3. Visualization\n",
    "\n",
    "Plotting the rainfall hyetograph (bar chart) and the resulting runoff hydrograph (line chart) shows the direct relationship."
   ]
  },
  {
   "cell_type": "code",
   "execution_count": null,
   "metadata": {},
   "outputs": [],
   "source": [
    "fig, ax1 = plt.subplots(figsize=(12, 6))\n",
    "\n",
    "# Plot Rainfall as a bar chart (hyetograph)\n",
    "color = 'tab:blue'\n",
    "ax1.set_xlabel('Time (hours)')\n",
    "ax1.set_ylabel('Rainfall (mm)', color=color)\n",
    "ax1.bar(history['time'], history['rainfall'], color=color, alpha=0.6, label='Rainfall')\n",
    "ax1.tick_params(axis='y', labelcolor=color)\n",
    "\n",
    "# Plot Runoff on a second y-axis\n",
    "ax2 = ax1.twinx()\n",
    "color = 'tab:red'\n",
    "ax2.set_ylabel('Direct Runoff (mm)', color=color)\n",
    "ax2.plot(history['time'], history['runoff'], color=color, label='Runoff')\n",
    "ax2.tick_params(axis='y', labelcolor=color)\n",
    "ax2.set_ylim(bottom=0) # Ensure runoff axis starts at 0\n",
    "\n",
    "plt.title('Rainfall-Runoff Simulation using RainfallAgent and SCSRunoffModel')\n",
    "fig.tight_layout()\n",
    "# Manually create legends because of the twin axes\n",
    "lines, labels = ax1.get_legend_handles_labels()\n",
    "lines2, labels2 = ax2.get_legend_handles_labels()\n",
    "ax2.legend(lines + lines2, labels + labels2, loc=0)\n",
    "plt.show()"
   ]
  },
  {
   "cell_type": "markdown",
   "metadata": {},
   "source": [
    "The plot shows that runoff (the red line) is only generated during the hours with significant rainfall. The shape of the runoff hydrograph directly follows the shape of the rainfall hyetograph, with magnitudes determined by the SCS model's logic. This example shows how disturbance agents can be chained together with physics models to create complete, meaningful simulations."
   ]
  }
 ],
 "metadata": {
  "kernelspec": {
   "display_name": "Python 3",
   "language": "python",
   "name": "python3"
  },
  "language_info": {
   "codemirror_mode": {
    "name": "ipython",
    "version": 3
   },
   "file_extension": ".py",
   "mimetype": "text/x-python",
   "name": "python",
   "nbconvert_exporter": "python",
   "pygments_lexer": "ipython3",
   "version": "3.10.9"
  }
 },
 "nbformat": 4,
 "nbformat_minor": 4
}
