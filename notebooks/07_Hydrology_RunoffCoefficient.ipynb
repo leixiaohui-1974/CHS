{
 "cells": [
  {
   "cell_type": "markdown",
   "metadata": {},
   "source": [
    "# Core Model Guide: RunoffCoefficientModel\n",
    "\n",
    "This notebook provides a guide to the `RunoffCoefficientModel`, the simplest rainfall-runoff model available in the CHS SDK."
   ]
  },
  {
   "cell_type": "markdown",
   "metadata": {},
   "source": [
    "## 1. Theoretical Background\n",
    "\n",
    "The runoff coefficient method, also known as the \"Rational Method\" in some contexts, is the most straightforward way to estimate runoff. It assumes that runoff is a direct, linear fraction of the total rainfall.\n",
    "\n",
    "The formula is:\n",
    "\n",
    "```\n",
    "Q = C * P\n",
    "```\n",
    "\n",
    "Where:\n",
    "- `Q` is the direct runoff.\n",
    "- `P` is the total rainfall.\n",
    "- `C` is the **runoff coefficient**, a dimensionless value between 0 and 1. `C` represents the fraction of rainfall that becomes direct runoff. A value of 1 means all rainfall becomes runoff (like on a paved surface), while a value of 0 means no runoff is generated (like on very dry, porous soil)."
   ]
  },
  {
   "cell_type": "markdown",
   "metadata": {},
   "source": [
    "## 2. API and Parameters\n",
    "\n",
    "The model's `calculate_runoff` method takes a `sub_basin_params` dictionary, from which it expects to find the runoff coefficient `C`."
   ]
  },
  {
   "cell_type": "code",
   "execution_count": null,
   "metadata": {},
   "outputs": [],
   "source": [
    "import sys\n",
    "import os\n",
    "import matplotlib.pyplot as plt\n",
    "\n",
    "# Add the project root to the path\n",
    "sys.path.insert(0, os.path.abspath(os.path.join(os.getcwd(), '..')))\n",
    "\n",
    "from water_system_sdk.src.chs_sdk.modules.modeling.hydrology.runoff_models import RunoffCoefficientModel"
   ]
  },
  {
   "cell_type": "markdown",
   "metadata": {},
   "source": [
    "## 3. Code Example\n",
    "\n",
    "Let's see how the model works with a simple example."
   ]
  },
  {
   "cell_type": "code",
   "execution_count": null,
   "metadata": {},
   "outputs": [],
   "source": [
    "# 1. Model Initialization\n",
    "model = RunoffCoefficientModel()\n",
    "\n",
    "# 2. Define Parameters\n",
    "params = {\"C\": 0.6} # Assume 60% of rainfall becomes runoff\n",
    "rainfall = 20.0 # 20mm of rain\n",
    "\n",
    "# 3. Calculate Runoff\n",
    "runoff = model.calculate_runoff(rainfall=rainfall, sub_basin_params=params, dt=1.0)\n",
    "\n",
    "# 4. Print and Verify\n",
    "expected_runoff = rainfall * params[\"C\"]\n",
    "print(f\"Rainfall: {rainfall} mm\")\n",
    "print(f\"Runoff Coefficient (C): {params['C']}\")\n",
    "print(f\"Calculated Runoff: {runoff} mm\")\n",
    "print(f\"Expected Runoff: {expected_runoff} mm\")\n",
    "\n",
    "assert runoff == expected_runoff"
   ]
  }
 ],
 "metadata": {
  "kernelspec": {
   "display_name": "Python 3",
   "language": "python",
   "name": "python3"
  },
  "language_info": {
   "codemirror_mode": {
    "name": "ipython",
    "version": 3
   },
   "file_extension": ".py",
   "mimetype": "text/x-python",
   "name": "python",
   "nbconvert_exporter": "python",
   "pygments_lexer": "ipython3",
   "version": "3.10.9"
  }
 },
 "nbformat": 4,
 "nbformat_minor": 4
}
