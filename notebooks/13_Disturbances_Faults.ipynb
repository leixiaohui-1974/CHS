{
 "cells": [
  {
   "cell_type": "markdown",
   "metadata": {},
   "source": [
    "# Disturbance & Event Guides: FaultAgent\n",
    "\n",
    "This notebook provides a guide to the `FaultAgent`. This is a powerful agent used to simulate system failures, such as sensor malfunctions or actuator wear. Using the `FaultAgent` is critical for testing the **robustness and resilience** of your control strategies."
   ]
  },
  {
   "cell_type": "markdown",
   "metadata": {},
   "source": [
    "## 1. How It Works\n",
    "\n",
    "The `FaultAgent` is initialized with a `fault_sequence`, which is a list of fault events. Each event is a dictionary that specifies:\n",
    "- `type`: The type of fault (e.g., `'SensorDrift'`).\n",
    "- `start_time`: The simulation time at which the fault begins.\n",
    "- Other parameters specific to the fault type (e.g., `drift_rate`).\n",
    "\n",
    "During the simulation, the `FaultAgent` activates these faults at their specified start times. The `output` of the agent represents the magnitude of the fault, which you can then apply to your system. For example, you could add the output of a `SensorDrift` fault to a real sensor's reading before it's sent to a controller."
   ]
  },
  {
   "cell_type": "code",
   "execution_count": null,
   "metadata": {},
   "outputs": [],
   "source": [
    "import sys\n",
    "import os\n",
    "import matplotlib.pyplot as plt\n",
    "import numpy as np\n",
    "\n",
    "# Add the project root to the path\n",
    "sys.path.insert(0, os.path.abspath(os.path.join(os.getcwd(), '..')))\n",
    "\n",
    "from water_system_sdk.src.chs_sdk.modules.disturbances.agents import FaultAgent\n",
    "from water_system_sdk.src.chs_sdk.modules.control.pid_controller import PIDController\n",
    "from water_system_sdk.src.chs_sdk.modules.modeling.storage_models import LinearTank"
   ]
  },
  {
   "cell_type": "markdown",
   "metadata": {},
   "source": [
    "## 2. Code Example: Simulating a Sensor Drift Fault\n",
    "\n",
    "We will set up a PID control loop to maintain a tank's water level. Halfway through the simulation, we will use a `FaultAgent` to introduce a **sensor drift**, causing the sensor to report a slowly increasing incorrect value. We will then observe how this fault affects the PID controller's behavior."
   ]
  },
  {
   "cell_type": "code",
   "execution_count": null,
   "metadata": {},
   "outputs": [],
   "source": [
    "# 1. Define the fault sequence\n",
    "fault_sequence = [\n",
    "    {\n",
    "        \"type\": \"SensorDrift\",\n",
    "        \"start_time\": 100, # Fault starts at t=100s\n",
    "        \"drift_rate\": 0.05 # The sensor reading will drift upwards by 0.05m every second\n",
    "    }\n",
    "]\n",
    "\n",
    "# 2. Initialize the models\n",
    "fault_agent = FaultAgent(fault_sequence=fault_sequence)\n",
    "tank = LinearTank(area=1000.0, initial_level=10.0)\n",
    "pid = PIDController(Kp=2.0, Ki=0.1, Kd=0.5, set_point=10.0)\n",
    "\n",
    "# 3. Simulation Setup\n",
    "dt = 1.0\n",
    "n_steps = 200\n",
    "history = {\"time\": [], \"true_level\": [], \"sensed_level\": [], \"inflow\": []}\n",
    "\n",
    "# 4. Simulation Loop\n",
    "for t in range(n_steps):\n",
    "    # Get the fault signal\n",
    "    fault_agent.step(t=t, dt=dt)\n",
    "    fault_signal = fault_agent.output\n",
    "    \n",
    "    # The controller's feedback is the true level plus the fault signal\n",
    "    true_level = tank.level\n",
    "    sensed_level = true_level + fault_signal\n",
    "    \n",
    "    # PID calculates the required inflow based on the (incorrect) sensed level\n",
    "    control_output = pid.step(dt=dt, feedback_signal=sensed_level)\n",
    "    \n",
    "    # Apply control to the tank\n",
    "    tank.input.inflow = max(0, control_output)\n",
    "    tank.step(dt=dt)\n",
    "    \n",
    "    # Record results\n",
    "    history[\"time\"].append(t)\n",
    "    history[\"true_level\"].append(true_level)\n",
    "    history[\"sensed_level\"].append(sensed_level)\n",
    "    history[\"inflow\"].append(tank.input.inflow)\n",
    "\n",
    "print(\"Simulation complete.\")"
   ]
  },
  {
   "cell_type": "markdown",
   "metadata": {},
   "source": [
    "## 3. Visualization\n",
    "\n",
    "Plotting the true water level vs. the sensed water level clearly shows the impact of the fault."
   ]
  },
  {
   "cell_type": "code",
   "execution_count": null,
   "metadata": {},
   "outputs": [],
   "source": [
    "plt.figure(figsize=(12, 6))\n",
    "\n",
    "plt.plot(history['time'], history['true_level'], label='True Water Level', color='blue', linewidth=2)\n",
    "plt.plot(history['time'], history['sensed_level'], label='Sensed Water Level (with fault)', color='orange', linestyle='--')\n",
    "plt.axhline(y=10.0, color='r', linestyle=':', label='Setpoint (10.0m)')\n",
    "plt.axvline(x=100, color='k', linestyle='--', label='Fault Start (t=100s)')\n",
    "\n",
    "plt.title('Effect of Sensor Drift Fault on PID Control')\n",
    "plt.xlabel('Time (s)')\n",
    "plt.ylabel('Water Level (m)')\n",
    "plt.legend()\n",
    "plt.grid(True)\n",
    "plt.show()"
   ]
  },
  {
   "cell_type": "markdown",
   "metadata": {},
   "source": [
    "### Analysis of Results\n",
    "\n",
    "The plot shows that for the first 100 seconds, the system is stable, and the true level matches the sensed level at the setpoint. \n",
    "\n",
    "At t=100s, the fault begins. The `sensed_level` (orange dashed line) starts to drift upwards. The PID controller, seeing this artificially high reading, thinks the water level is too high and starts to reduce the inflow to correct it. As a result, the `true_level` (blue line) begins to drop, moving away from the setpoint.\n",
    "\n",
    "This example demonstrates how the `FaultAgent` can be used to create powerful test cases to evaluate how a control system behaves under non-ideal, real-world conditions."
   ]
  }
 ],
 "metadata": {
  "kernelspec": {
   "display_name": "Python 3",
   "language": "python",
   "name": "python3"
  },
  "language_info": {
   "codemirror_mode": {
    "name": "ipython",
    "version": 3
   },
   "file_extension": ".py",
   "mimetype": "text/x-python",
   "name": "python",
   "nbconvert_exporter": "python",
   "pygments_lexer": "ipython3",
   "version": "3.10.9"
  }
 },
 "nbformat": 4,
 "nbformat_minor": 4
}
