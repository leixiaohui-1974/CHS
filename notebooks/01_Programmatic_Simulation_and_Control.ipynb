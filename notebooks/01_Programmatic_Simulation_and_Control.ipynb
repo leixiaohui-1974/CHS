{
 "cells": [
  {
   "cell_type": "markdown",
   "metadata": {},
   "source": [
    "# Tutorial: Programmatic Simulation and Control\n",
    "\n",
    "This notebook demonstrates how to use the CHS SDK as a Python library to programmatically build and run a simulation. Unlike using YAML files, this approach offers maximum flexibility and is ideal for research, complex scripting, and integration with other Python libraries.\n",
    "\n",
    "**Goal:** We will create a simple closed-loop control system consisting of:\n",
    "1.  A **Reservoir**, represented by a `BodyAgent` with a `LinearTank` model.\n",
    "2.  A **PID Controller**, represented by a `ControlAgent`.\n",
    "3.  A **Logger**, a special agent that will record the reservoir's state for later analysis.\n",
    "\n",
    "We will use the new state-reporting mechanism: the reservoir will report its state, and the PID controller will subscribe to these updates to get its feedback signal."
   ]
  },
  {
   "cell_type": "markdown",
   "metadata": {},
   "source": [
    "## 1. Imports and Setup\n",
    "\n",
    "First, we need to import all the necessary classes from the SDK. We also import `matplotlib` for plotting."
   ]
  },
  {
   "cell_type": "code",
   "execution_count": null,
   "metadata": {},
   "outputs": [],
   "source": [
    "import sys\n",
    "import os\n",
    "import matplotlib.pyplot as plt\n",
    "import pandas as pd\n",
    "\n",
    "# Add the project root to the path to allow imports from chs_sdk\n",
    "sys.path.insert(0, os.path.abspath(os.path.join(os.getcwd(), '..')))\n",
    "\n",
    "# Core SDK components\n",
    "from chs_sdk.core.host import AgentKernel\n",
    "from chs_sdk.agents.body_agent import BodyAgent\n",
    "from chs_sdk.agents.control_agent import ControlAgent\n",
    "\n",
    "# Helper/Utility agents for the tutorial\n",
    "from tests.helpers.mock_agents import LoggerAgent\n",
    "\n",
    "# Scientific models\n",
    "from chs_sdk.modules.modeling.storage_models import LinearTank"
   ]
  },
  {
   "cell_type": "markdown",
   "metadata": {},
   "source": [
    "## 2. Initialize the Simulation Kernel\n",
    "\n",
    "The `AgentKernel` is the heart of the simulation. It manages all the agents and the message bus for their communication."
   ]
  },
  {
   "cell_type": "code",
   "execution_count": null,
   "metadata": {},
   "outputs": [],
   "source": [
    "kernel = AgentKernel()"
   ]
  },
  {
   "cell_type": "markdown",
   "metadata": {},
   "source": [
    "## 3. Create and Configure the Agents\n",
    "\n",
    "Now, we'll create our three agents: the reservoir (BodyAgent), the controller (ControlAgent), and the logger (LoggerAgent)."
   ]
  },
  {
   "cell_type": "code",
   "execution_count": null,
   "metadata": {},
   "outputs": [],
   "source": [
    "# Define agent IDs for clarity\n",
    "reservoir_id = \"reservoir_1\"\n",
    "controller_id = \"pid_controller_1\"\n",
    "logger_id = \"logger_1\"\n",
    "\n",
    "# Create the physical model for the reservoir\n",
    "reservoir_model = LinearTank(area=1000, initial_level=5.0)\n",
    "\n",
    "# 1. Create the BodyAgent for the reservoir\n",
    "kernel.add_agent(\n",
    "    BodyAgent,\n",
    "    agent_id=reservoir_id,\n",
    "    core_physics_model=reservoir_model,\n",
    "    sensors={},\n",
    "    actuators={}\n",
    ")\n",
    "\n",
    "# 2. Create the ControlAgent for the PID controller\n",
    "kernel.add_agent(\n",
    "    ControlAgent,\n",
    "    agent_id=controller_id,\n",
    "    # Configuration for this agent:\n",
    "    target_agent_id=reservoir_id,         # Which agent to control\n",
    "    variable_to_control=\"level\",        # Which variable in the state to use as feedback\n",
    "    control_algorithm=\"PID\",\n",
    "    algorithm_config={\"Kp\": 2.0, \"Ki\": 0.1, \"Kd\": 0.0, \"set_point\": 10.0} # Target level is 10.0m\n",
    ")\n",
    "\n",
    "# 3. Create the LoggerAgent to record the reservoir's state\n",
    "kernel.add_agent(\n",
    "    LoggerAgent,\n",
    "    agent_id=logger_id,\n",
    "    # Configuration for this agent:\n",
    "    topic_to_subscribe=f\"state/update/{reservoir_id}\"\n",
    ")\n",
    "\n",
    "# We also need to connect the controller's output to the reservoir's input.\n",
    "# The new architecture doesn't have a standard message for this yet, so we will do it manually in the loop."
   ]
  },
  {
   "cell_type": "markdown",
   "metadata": {},
   "source": [
    "## 4. Running the Simulation\n",
    "\n",
    "With the agents created, we can now run the simulation. We will manually step through the simulation to show how the controller's output can be fed back to the reservoir."
   ]
  },
  {
   "cell_type": "code",
   "execution_count": null,
   "metadata": {},
   "outputs": [],
   "source": [
    "reservoir_agent = kernel._agents[reservoir_id]\n",
    "pid_agent = kernel._agents[controller_id]\n",
    "logger_agent = kernel._agents[logger_id]\n",
    "\n",
    "duration = 200  # seconds\n",
    "time_step = 1.0 # second\n",
    "\n",
    "# Manually set up the kernel for ticking\n",
    "kernel.start(time_step=time_step)\n",
    "\n",
    "for t in range(int(duration / time_step)):\n",
    "    # In each step, we manually set the reservoir's inflow to be the PID's last command\n",
    "    # This closes the control loop.\n",
    "    if pid_agent.current_command is not None:\n",
    "        reservoir_agent.core_physics_model.input.inflow = pid_agent.current_command\n",
    "    \n",
    "    kernel.tick()\n",
    "\n",
    "# Shut down the kernel\n",
    "kernel.stop()"
   ]
  },
  {
   "cell_type": "markdown",
   "metadata": {},
   "source": [
    "## 5. Analyzing and Visualizing the Results\n",
    "\n",
    "Now that the simulation is complete, we can access the data captured by our `LoggerAgent` and plot it to see if our controller worked."
   ]
  },
  {
   "cell_type": "code",
   "execution_count": null,
   "metadata": {},
   "outputs": [],
   "source": [
    "# The logger's history contains a list of state dictionaries\n",
    "history = logger_agent.history\n",
    "\n",
    "# Convert the history to a pandas DataFrame for easy analysis\n",
    "df = pd.DataFrame(history)\n",
    "\n",
    "# Add a time column\n",
    "df['time'] = [i * time_step for i in range(len(df))]\n",
    "\n",
    "print(\"First 5 logged states:\")\n",
    "print(df.head())\n",
    "\n",
    "# Plot the results\n",
    "plt.figure(figsize=(12, 6))\n",
    "plt.plot(df['time'], df['level'], label='Reservoir Water Level')\n",
    "plt.axhline(y=10.0, color='r', linestyle='--', label='Setpoint (10.0m)')\n",
    "plt.title('PID Control of Reservoir Water Level')\n",
    "plt.xlabel('Time (s)')\n",
    "plt.ylabel('Water Level (m)')\n",
    "plt.legend()\n",
    "plt.grid(True)\n",
    "plt.show()"
   ]
  },
  {
   "cell_type": "markdown",
   "metadata": {},
   "source": [
    "### Conclusion\n",
    "\n",
    "As you can see from the plot, the PID controller successfully brings the reservoir's water level from its initial state of 5.0m up to the target setpoint of 10.0m. \n",
    "\n",
    "This notebook has demonstrated:\n",
    "- How to create and configure agents programmatically.\n",
    "- How the state-reporting mechanism works in practice.\n",
    "- How to run the `AgentKernel` step-by-step.\n",
    "- How to create a simple `LoggerAgent` to capture results.\n",
    "- How to analyze and plot the simulation output.\n",
    "\n",
    "You can use this template to build much more complex simulations and control strategies."
   ]
  }
 ],
 "metadata": {
  "kernelspec": {
   "display_name": "Python 3",
   "language": "python",
   "name": "python3"
  },
  "language_info": {
   "codemirror_mode": {
    "name": "ipython",
    "version": 3
   },
   "file_extension": ".py",
   "mimetype": "text/x-python",
   "name": "python",
   "nbconvert_exporter": "python",
   "pygments_lexer": "ipython3",
   "version": "3.10.9"
  }
 },
 "nbformat": 4,
 "nbformat_minor": 4
}
