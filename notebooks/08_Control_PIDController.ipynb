{
 "cells": [
  {
   "cell_type": "markdown",
   "metadata": {},
   "source": [
    "# Core Model Guide: PIDController\n",
    "\n",
    "This notebook provides a detailed guide to the `PIDController`, a fundamental feedback controller used extensively in industrial control systems. It is one of the core control models in the CHS SDK."
   ]
  },
  {
   "cell_type": "markdown",
   "metadata": {},
   "source": [
    "## 1. Theoretical Background\n",
    "\n",
    "A PID (Proportional-Integral-Derivative) controller continuously calculates an **error value** `e(t)` as the difference between a desired **setpoint (SP)** and a measured **process variable (PV)**. It applies a correction based on three terms:\n",
    "\n",
    "- **Proportional (P)**: Proportional to the current error. A larger P term results in a stronger response to the current error. `P_out = Kp * e(t)`\n",
    "- **Integral (I)**: Proportional to the accumulation of past errors. The I term eliminates steady-state error by integrating the error over time. `I_out = Ki * ∫e(t)dt`\n",
    "- **Derivative (D)**: Proportional to the rate of change of the error. The D term predicts future error and can dampen the system's response, reducing overshoot. `D_out = Kd * de(t)/dt`\n",
    "\n",
    "The final controller output is the sum of these three terms. Tuning the gains `Kp`, `Ki`, and `Kd` is the key to achieving a fast, stable response."
   ]
  },
  {
   "cell_type": "markdown",
   "metadata": {},
   "source": [
    "## 2. API and Parameters\n",
    "\n",
    "Let's import the necessary classes."
   ]
  },
  {
   "cell_type": "code",
   "execution_count": null,
   "metadata": {},
   "outputs": [],
   "source": [
    "import sys\n",
    "import os\n",
    "import matplotlib.pyplot as plt\n",
    "import numpy as np\n",
    "import pandas as pd\n",
    "\n",
    "# Add the project root to the path\n",
    "sys.path.insert(0, os.path.abspath(os.path.join(os.getcwd(), '..')))\n",
    "\n",
    "from water_system_sdk.src.chs_sdk.modules.control.pid_controller import PIDController\n",
    "from water_system_sdk.src.chs_sdk.modules.modeling.storage_models import LinearTank"
   ]
  },
  {
   "cell_type": "markdown",
   "metadata": {},
   "source": [
    "The `PIDController` is initialized with:\n",
    "\n",
    "- `Kp` (float): The proportional gain.\n",
    "- `Ki` (float): The integral gain.\n",
    "- `Kd` (float): The derivative gain.\n",
    "- `set_point` (float): The target value for the process variable.\n",
    "- `windup_guard` (float, optional): An anti-windup limit for the integral term."
   ]
  },
  {
   "cell_type": "markdown",
   "metadata": {},
   "source": [
    "## 3. Code Example: Controlling a Tank's Water Level\n",
    "\n",
    "We will create a simulation to control the water level of a `LinearTank`. The `PIDController` will adjust the `inflow` to the tank to try and maintain the water level at a `set_point` of 10 meters."
   ]
  },
  {
   "cell_type": "code",
   "execution_count": null,
   "metadata": {},
   "outputs": [],
   "source": [
    "# 1. Model Initialization\n",
    "tank = LinearTank(area=1000.0, initial_level=2.0)\n",
    "\n",
    "# Initialize three different PID controllers to compare their performance\n",
    "pid_well_tuned = PIDController(Kp=2.0, Ki=0.1, Kd=0.5, set_point=10.0)\n",
    "pid_aggressive = PIDController(Kp=5.0, Ki=0.5, Kd=0.1, set_point=10.0) # High Kp and Ki\n",
    "pid_oscillating = PIDController(Kp=10.0, Ki=1.5, Kd=0.01, set_point=10.0) # Very high gains\n",
    "\n",
    "controllers = {\n",
    "    \"Well-Tuned\": pid_well_tuned,\n",
    "    \"Aggressive (Overshoot)\": pid_aggressive,\n",
    "    \"Oscillating\": pid_oscillating\n",
    "}\n",
    "\n",
    "# 2. Simulation Setup\n",
    "dt = 1.0\n",
    "n_steps = 200\n",
    "all_history = {}\n",
    "\n",
    "# 3. Simulation Loop for each controller\n",
    "for name, controller in controllers.items():\n",
    "    # Reset the tank for each simulation\n",
    "    tank = LinearTank(area=1000.0, initial_level=2.0)\n",
    "    history = []\n",
    "    \n",
    "    for t in range(n_steps):\n",
    "        # The controller's feedback signal is the current tank level\n",
    "        feedback_signal = tank.level\n",
    "        \n",
    "        # The controller calculates the required inflow\n",
    "        control_output = controller.step(dt=dt, feedback_signal=feedback_signal)\n",
    "        \n",
    "        # Set the tank's inflow to the controller's output\n",
    "        # Ensure inflow is non-negative\n",
    "        tank.input.inflow = max(0, control_output)\n",
    "        \n",
    "        # Simulate the tank for one step\n",
    "        tank.step(dt=dt)\n",
    "        \n",
    "        history.append(tank.level)\n",
    "        \n",
    "    all_history[name] = history\n",
    "\n",
    "print(\"All simulations complete.\")"
   ]
  },
  {
   "cell_type": "markdown",
   "metadata": {},
   "source": [
    "## 4. Visualization\n",
    "\n",
    "Plotting the results from the three different controllers clearly shows the effect of tuning the PID gains."
   ]
  },
  {
   "cell_type": "code",
   "execution_count": null,
   "metadata": {},
   "outputs": [],
   "source": [
    "plt.figure(figsize=(12, 7))\n",
    "\n",
    "time_axis = np.arange(0, n_steps * dt, dt)\n",
    "\n",
    "for name, history in all_history.items():\n",
    "    plt.plot(time_axis, history, label=name)\n",
    "\n",
    "plt.axhline(y=10.0, color='r', linestyle='--', label='Setpoint (10.0m)')\n",
    "plt.title('Comparison of PID Controller Tuning')\n",
    "plt.xlabel('Time (s)')\n",
    "plt.ylabel('Water Level (m)')\n",
    "plt.legend()\n",
    "plt.grid(True)\n",
    "plt.show()"
   ]
  },
  {
   "cell_type": "markdown",
   "metadata": {},
   "source": [
    "### Analysis of Results\n",
    "\n",
    "- **Well-Tuned**: This controller provides a smooth, quick rise to the setpoint with minimal overshoot.\n",
    "- **Aggressive (Overshoot)**: The higher gains cause the controller to react more strongly, leading to the water level overshooting the setpoint before settling down.\n",
    "- **Oscillating**: With very high gains, the controller overcorrects so much that it creates sustained oscillations around the setpoint, never fully settling. This demonstrates an unstable control system.\n",
    "\n",
    "This notebook shows how the `PIDController` can be used to create a closed-loop control system and illustrates the importance of proper gain tuning."
   ]
  }
 ],
 "metadata": {
  "kernelspec": {
   "display_name": "Python 3",
   "language": "python",
   "name": "python3"
  },
  "language_info": {
   "codemirror_mode": {
    "name": "ipython",
    "version": 3
   },
   "file_extension": ".py",
   "mimetype": "text/x-python",
   "name": "python",
   "nbconvert_exporter": "python",
   "pygments_lexer": "ipython3",
   "version": "3.10.9"
  }
 },
 "nbformat": 4,
 "nbformat_minor": 4
}
