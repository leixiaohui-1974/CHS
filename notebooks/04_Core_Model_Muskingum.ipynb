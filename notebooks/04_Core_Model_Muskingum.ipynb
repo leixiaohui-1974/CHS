{
 "cells": [
  {
   "cell_type": "markdown",
   "metadata": {},
   "source": [
    "# Core Model Guide: MuskingumChannelModel\n",
    "\n",
    "This notebook provides a detailed guide to the `MuskingumChannelModel`, which is a widely used hydrological model for simulating the flow of water in a river channel or reach. Its primary use is for **flood routing**."
   ]
  },
  {
   "cell_type": "markdown",
   "metadata": {},
   "source": [
    "## 1. Theoretical Background\n",
    "\n",
    "The Muskingum method is a simple and effective way to model how a flood wave changes shape as it moves downstream. It accounts for two key phenomena:\n",
    "1.  **Translation**: The time it takes for the wave to travel from the upstream to the downstream end.\n",
    "2.  **Attenuation**: The flattening and spreading out of the flood wave due to channel storage effects.\n",
    "\n",
    "The core of the model is the Muskingum equation:\n",
    "\n",
    "```\n",
    "O_t = C1*I_t + C2*I_{t-1} + C3*O_{t-1}\n",
    "```\n",
    "\n",
    "Where:\n",
    "- `O` is the Outflow and `I` is the Inflow.\n",
    "- `t` is the current time step and `t-1` is the previous time step.\n",
    "- `C1`, `C2`, `C3` are routing coefficients calculated from the physical characteristics of the channel, represented by the parameters `K` and `x`, and the simulation time step `dt`."
   ]
  },
  {
   "cell_type": "markdown",
   "metadata": {},
   "source": [
    "## 2. API and Parameters\n",
    "\n",
    "Let's import the necessary libraries and the model."
   ]
  },
  {
   "cell_type": "code",
   "execution_count": null,
   "metadata": {},
   "outputs": [],
   "source": [
    "import sys\n",
    "import os\n",
    "import matplotlib.pyplot as plt\n",
    "import numpy as np\n",
    "\n",
    "# Add the project root to the path\n",
    "sys.path.insert(0, os.path.abspath(os.path.join(os.getcwd(), '..')))\n",
    "\n",
    "from water_system_sdk.src.chs_sdk.modules.modeling.storage_models import MuskingumChannelModel"
   ]
  },
  {
   "cell_type": "markdown",
   "metadata": {},
   "source": [
    "The `MuskingumChannelModel` is initialized with:\n",
    "\n",
    "- `K` (float): The travel time constant for the reach (in hours). This represents the time it takes for the peak of the flood wave to travel through the reach.\n",
    "- `x` (float): The weighting factor, dimensionless, between 0 and 0.5. It controls the amount of attenuation. A value of 0 means maximum attenuation (like a reservoir), while 0.5 means almost no attenuation.\n",
    "- `dt` (float): The simulation time step (in hours). For the model to be stable, `dt` should be chosen carefully relative to `K`.\n",
    "- `initial_inflow` (float): The inflow at the start of the simulation (m³/s).\n",
    "- `initial_outflow` (float): The outflow at the start of the simulation (m³/s). Typically, these are equal for a steady-state start."
   ]
  },
  {
   "cell_type": "markdown",
   "metadata": {},
   "source": [
    "## 3. Code Example: Routing a Flood Wave\n",
    "\n",
    "We will create a synthetic flood wave (a triangular inflow hydrograph) and route it through a channel reach to see how the model simulates translation and attenuation."
   ]
  },
  {
   "cell_type": "code",
   "execution_count": null,
   "metadata": {},
   "outputs": [],
   "source": [
    "# 1. Model Initialization\n",
    "model = MuskingumChannelModel(\n",
    "    K=20.0,            # 20-hour travel time\n",
    "    x=0.2,             # A typical value for natural channels\n",
    "    dt=1.0,            # 1-hour time step\n",
    "    initial_inflow=10.0, # Starting with a baseflow of 10 m^3/s\n",
    "    initial_outflow=10.0\n",
    ")\n",
    "\n",
    "# 2. Simulation Setup\n",
    "# Create a triangular inflow hydrograph representing a storm event\n",
    "base_flow = 10.0\n",
    "peak_inflow = 100.0\n",
    "time_to_peak = 24 # hours\n",
    "recession_time = 48 # hours\n",
    "total_duration = 100 # hours\n",
    "\n",
    "inflow_hydrograph = np.full(total_duration, base_flow)\n",
    "inflow_hydrograph[:time_to_peak] = np.linspace(base_flow, peak_inflow, time_to_peak)\n",
    "inflow_hydrograph[time_to_peak:time_to_peak + recession_time] = np.linspace(peak_inflow, base_flow, recession_time)\n",
    "\n",
    "history = {\n",
    "    \"time\": [],\n",
    "    \"inflow\": [],\n",
    "    \"outflow\": []\n",
    "}\n",
    "\n",
    "# 3. Simulation Loop\n",
    "for t in range(total_duration):\n",
    "    # Get the inflow for the current time step from our hydrograph\n",
    "    current_inflow = inflow_hydrograph[t]\n",
    "    \n",
    "    # Set the model's input\n",
    "    model.input.inflow = current_inflow\n",
    "    \n",
    "    # Run the model for one step\n",
    "    outflow = model.step()\n",
    "    \n",
    "    # Record results\n",
    "    history[\"time\"].append(t)\n",
    "    history[\"inflow\"].append(current_inflow)\n",
    "    history[\"outflow\"].append(outflow)\n",
    "\n",
    "print(\"Simulation complete.\")"
   ]
  },
  {
   "cell_type": "markdown",
   "metadata": {},
   "source": [
    "## 4. Visualization\n",
    "\n",
    "Plotting the inflow and outflow hydrographs on the same axes is the best way to visualize the model's effect."
   ]
  },
  {
   "cell_type": "code",
   "execution_count": null,
   "metadata": {},
   "outputs": [],
   "source": [
    "plt.figure(figsize=(12, 6))\n",
    "\n",
    "plt.plot(history['time'], history['inflow'], label='Inflow Hydrograph', color='blue', linestyle='--')\n",
    "plt.plot(history['time'], history['outflow'], label='Outflow Hydrograph', color='red', linewidth=2)\n",
    "\n",
    "plt.title('Flood Wave Routing with Muskingum Model')\n",
    "plt.xlabel('Time (hours)')\n",
    "plt.ylabel('Flow Rate (m³/s)')\n",
    "plt.legend()\n",
    "plt.grid(True)\n",
    "plt.show()"
   ]
  },
  {
   "cell_type": "markdown",
   "metadata": {},
   "source": [
    "### Analysis of Results\n",
    "\n",
    "The plot clearly shows the two main effects of channel routing:\n",
    "\n",
    "1.  **Attenuation**: The peak of the outflow hydrograph (red line) is significantly lower than the peak of the inflow hydrograph (blue dashed line).\n",
    "2.  **Translation (Lag)**: The peak of the outflow occurs later in time than the peak of the inflow. \n",
    "\n",
    "This demonstrates that the `MuskingumChannelModel` correctly simulates the fundamental behavior of open-channel flow during a flood event."
   ]
  }
 ],
 "metadata": {
  "kernelspec": {
   "display_name": "Python 3",
   "language": "python",
   "name": "python3"
  },
  "language_info": {
   "codemirror_mode": {
    "name": "ipython",
    "version": 3
   },
   "file_extension": ".py",
   "mimetype": "text/x-python",
   "name": "python",
   "nbconvert_exporter": "python",
   "pygments_lexer": "ipython3",
   "version": "3.10.9"
  }
 },
 "nbformat": 4,
 "nbformat_minor": 4
}
