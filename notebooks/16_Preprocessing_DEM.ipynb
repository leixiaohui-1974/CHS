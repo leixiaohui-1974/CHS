{
 "cells": [
  {
   "cell_type": "markdown",
   "metadata": {},
   "source": [
    "# Preprocessing Guide: DEM Delineation\n",
    "\n",
    "This notebook provides a guide to using the `WatershedDelineator` tool in the CHS SDK. This powerful tool automates the process of analyzing a Digital Elevation Model (DEM) to determine drainage patterns and delineate watershed boundaries, which is a fundamental step in setting up most hydrological models."
   ]
  },
  {
   "cell_type": "markdown",
   "metadata": {},
   "source": [
    "## 1. The Hydrological Analysis Workflow\n",
    "\n",
    "The process of delineating a watershed from a DEM involves a standard sequence of GIS operations:\n",
    "\n",
    "1.  **Fill Sinks**: Raw DEMs often have small imperfections that create artificial depressions where water would get stuck. This step fills these sinks to ensure a continuous flow path across the landscape.\n",
    "2.  **Flow Direction**: For each cell in the DEM, this step determines which of its 8 neighbors water will flow to, based on the steepest descent.\n",
    "3.  **Flow Accumulation**: This step calculates, for each cell, how many upstream cells flow into it. This is used to identify the stream network (cells with high accumulation values).\n",
    "4.  **Delineation**: Using the flow direction grid, this step identifies all the cells that flow into a specified **outlet point**, defining the watershed boundary.\n",
    "\n",
    "The `WatershedDelineator` automates this entire workflow."
   ]
  },
  {
   "cell_type": "code",
   "execution_count": null,
   "metadata": {},
   "outputs": [],
   "source": [
    "import sys\n",
    "import os\n",
    "import matplotlib.pyplot as plt\n",
    "import numpy as np\n",
    "\n",
    "# Add the project root to the path\n",
    "sys.path.insert(0, os.path.abspath(os.path.join(os.getcwd(), '..')))\n",
    "\n",
    "from water_system_sdk.src.chs_sdk.preprocessing.delineation import WatershedDelineator\n",
    "\n",
    "# Helper function for plotting grids\n",
    "def plot_grid(grid, title):\n",
    "    plt.figure(figsize=(7, 7))\n",
    "    plt.imshow(grid, cmap='viridis')\n",
    "    plt.title(title)\n",
    "    plt.colorbar(label='Value')\n",
    "    plt.show()"
   ]
  },
  {
   "cell_type": "markdown",
   "metadata": {},
   "source": [
    "## 2. Code Example\n",
    "\n",
    "We will use a small, synthetic DEM for this example to make the results easy to see."
   ]
  },
  {
   "cell_type": "code",
   "execution_count": null,
   "metadata": {},
   "outputs": [],
   "source": [
    "# 1. Create a synthetic DEM\n",
    "# This represents a simple V-shaped valley sloping towards the bottom right\n",
    "dem = np.array([\n",
    "    [10, 10, 10, 10, 10, 10, 10, 10],\n",
    "    [10,  9,  9,  9,  9,  9,  9, 10],\n",
    "    [10,  9,  8,  8,  8,  8,  9, 10],\n",
    "    [10,  9,  8,  7,  7,  8,  9, 10],\n",
    "    [10,  9,  8,  7,  6,  7,  9, 10],\n",
    "    [10,  9,  8,  8,  7,  8,  9, 10],\n",
    "    [10,  9,  9,  9,  8,  9,  9, 10],\n",
    "    [10, 10, 10, 10,  9, 10, 10, 10],\n",
    "])\n",
    "\n",
    "# Add a sink (a hole) to demonstrate the sink-filling process\n",
    "dem[4, 2] = 5\n",
    "\n",
    "plot_grid(dem, \"Original Synthetic DEM (with sink at [4, 2])\")"
   ]
  },
  {
   "cell_type": "code",
   "execution_count": null,
   "metadata": {},
   "outputs": [],
   "source": [
    "# 2. Initialize the Delineator\n",
    "delineator = WatershedDelineator(dem)\n",
    "\n",
    "# 3. Run the preprocessing steps\n",
    "# This will automatically fill sinks, and calculate flow direction and accumulation\n",
    "delineator._preprocess_dem()\n",
    "\n",
    "# Let's visualize the intermediate products\n",
    "plot_grid(delineator.filled_dem, \"1. Filled DEM\")\n",
    "plot_grid(delineator.fdr, \"2. Flow Direction (D8 Method)\")\n",
    "plot_grid(np.log1p(delineator.fac), \"3. Flow Accumulation (log scale)\") # Use log scale for better viz"
   ]
  },
  {
   "cell_type": "markdown",
   "metadata": {},
   "source": [
    "### Analysis of Intermediate Steps\n",
    "\n",
    "- **Filled DEM**: Notice that the sink at `[4, 2]` has been filled (its value raised from 5 to 8) to ensure water can flow out of it.\n",
    "- **Flow Direction**: The grid shows the direction of flow for each cell using the D8 standard (1=E, 2=SE, 4=S, 8=SW, etc.). You can see the flow paths converging towards the main valley line.\n",
    "- **Flow Accumulation**: The bright line shows the main channel where flow accumulates. The value of each cell in this grid represents the number of upstream cells that drain into it."
   ]
  },
  {
   "cell_type": "markdown",
   "metadata": {},
   "source": [
    "## 4. Delineating the Watershed\n",
    "\n",
    "Now that the DEM is preprocessed, we can define an outlet point and delineate its entire upstream catchment area."
   ]
  },
  {
   "cell_type": "code",
   "execution_count": null,
   "metadata": {},
   "outputs": [],
   "source": [
    "# Define the outlet point (bottom of the valley)\n",
    "outlet_point = (4, 4)\n",
    "\n",
    "# Delineate the watershed for this outlet\n",
    "zones = delineator.delineate_parameter_zones(outlet_points=[outlet_point])\n",
    "watershed_mask = zones[0].mask\n",
    "\n",
    "# Visualize the delineated watershed\n",
    "# We'll plot the original DEM but only show the cells inside the mask\n",
    "watershed_dem = np.where(watershed_mask, dem, np.nan) # Set cells outside the mask to NaN\n",
    "\n",
    "plt.figure(figsize=(8, 8))\n",
    "plt.imshow(watershed_dem, cmap='terrain')\n",
    "plt.plot(outlet_point[1], outlet_point[0], 'r*', markersize=15, label='Outlet Point') # Note: plot uses (x, y) which is (col, row)\n",
    "plt.title('Delineated Watershed')\n",
    "plt.legend()\n",
    "plt.colorbar(label='Elevation')\n",
    "plt.show()"
   ]
  },
  {
   "cell_type": "markdown",
   "metadata": {},
   "source": [
    "The final plot shows the boundary of the watershed that drains to our specified outlet point. This boolean mask can then be used to extract parameters or run hydrological models for only this specific area. This notebook demonstrates how the `WatershedDelineator` provides a powerful, automated workflow for a critical preprocessing task in hydrology."
   ]
  }
 ],
 "metadata": {
  "kernelspec": {
   "display_name": "Python 3",
   "language": "python",
   "name": "python3"
  },
  "language_info": {
   "codemirror_mode": {
    "name": "ipython",
    "version": 3
   },
   "file_extension": ".py",
   "mimetype": "text/x-python",
   "name": "python",
   "nbconvert_exporter": "python",
   "pygments_lexer": "ipython3",
   "version": "3.10.9"
  }
 },
 "nbformat": 4,
 "nbformat_minor": 4
}
