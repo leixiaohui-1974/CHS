{
 "cells": [
  {
   "cell_type": "markdown",
   "metadata": {},
   "source": [
    "# Example Case Study: Simple PID Control\n",
    "\n",
    "This notebook is a conversion of the example script `examples/case_01_simple_pid_control.py`. It demonstrates how to use the `SimulationManager` with a single configuration dictionary to set up and run a complete closed-loop control simulation."
   ]
  },
  {
   "cell_type": "markdown",
   "metadata": {},
   "source": [
    "## 1. Goal of the Simulation\n",
    "\n",
    "The goal is to control the water level in a simple reservoir. \n",
    "\n",
    "- A **Reservoir** starts with a water level of 0.0m.\n",
    "- A **PID Controller** has a target setpoint of 10.0m.\n",
    "- The controller will adjust the **inflow** to the reservoir to try to reach the setpoint.\n",
    "- A constant **outflow** of 0.5 m³/s is always being drawn from the reservoir.\n",
    "\n",
    "This setup mimics a common real-world scenario, like a water tower that needs to be kept full while users are drawing water from it."
   ]
  },
  {
   "cell_type": "markdown",
   "metadata": {},
   "source": [
    "## 2. Imports and Setup"
   ]
  },
  {
   "cell_type": "code",
   "execution_count": null,
   "metadata": {},
   "outputs": [],
   "source": [
    "import sys\n",
    "import os\n",
    "import matplotlib.pyplot as plt\n",
    "import pandas as pd\n",
    "\n",
    "# Add the project root to the path\n",
    "sys.path.insert(0, os.path.abspath(os.path.join(os.getcwd(), '..')))\n",
    "\n",
    "# In the original script, this was `water_system_simulator.simulation_manager`.\n",
    "# We use the new refactored path here.\n",
    "from water_system_sdk.src.chs_sdk.simulation_manager import SimulationManager"
   ]
  },
  {
   "cell_type": "markdown",
   "metadata": {},
   "source": [
    "## 3. The Simulation Configuration Dictionary\n",
    "\n",
    "The entire simulation is defined in a single Python dictionary. This approach is powerful because the configuration can be easily saved to or loaded from a file (like a YAML or JSON)."
   ]
  },
  {
   "cell_type": "code",
   "execution_count": null,
   "metadata": {},
   "outputs": [],
   "source": [
    "pid_control_config = {\n",
    "    # --- Simulation Parameters ---\n",
    "    # Defines the total duration and the time step for the simulation.\n",
    "    \"simulation_params\": {\n",
    "        \"total_time\": 100, # seconds\n",
    "        \"dt\": 0.1      # seconds\n",
    "    },\n",
    "    \n",
    "    # --- Components ---\n",
    "    # This section defines all the building blocks of our simulation.\n",
    "    \"components\": {\n",
    "        \"reservoir_A\": {\n",
    "            \"type\": \"ReservoirModel\", # This needs to be a key in the ComponentRegistry\n",
    "            \"params\": {\n",
    "                \"area\": 1.0,\n",
    "                \"initial_level\": 0.0\n",
    "            }\n",
    "        },\n",
    "        \"pid_controller\": {\n",
    "            \"type\": \"PIDController\",\n",
    "            \"params\": {\n",
    "                \"Kp\": 2.0,\n",
    "                \"Ki\": 0.5,\n",
    "                \"Kd\": 1.0,\n",
    "                \"set_point\": 10.0\n",
    "            }\n",
    "        },\n",
    "        # We use a TimeSeriesDisturbance with a single point to create a constant outflow.\n",
    "        \"constant_outflow\": {\n",
    "            \"type\": \"TimeSeriesDisturbance\",\n",
    "            \"params\": {\n",
    "                \"times\": [0],   \n",
    "                \"values\": [0.5] \n",
    "            }\n",
    "        }\n",
    "    },\n",
    "    \n",
    "    # --- Connections ---\n",
    "    # This defines how the components are wired together. \n",
    "    # It copies the value from a 'source' to a 'target' at the start of each time step.\n",
    "    \"connections\": [\n",
    "        {\n",
    "            \"source\": \"reservoir_A.state.level\",\n",
    "            \"target\": \"pid_controller.input.error_source\"\n",
    "        },\n",
    "        {\n",
    "            \"source\": \"constant_outflow.output\",\n",
    "            \"target\": \"reservoir_A.input.release_outflow\"\n",
    "        }\n",
    "    ],\n",
    "    \n",
    "    # --- Execution Order ---\n",
    "    # This defines the exact sequence of operations at each time step.\n",
    "    \"execution_order\": [\n",
    "        # 1. PID calculates inflow based on last step's reservoir level.\n",
    "        # The result is directly written to the reservoir's inflow input.\n",
    "        {\n",
    "            \"component\": \"pid_controller\",\n",
    "            \"method\": \"step\",\n",
    "            \"args\": {\"dt\": \"simulation.dt\"},\n",
    "            \"result_to\": \"reservoir_A.input.inflow\"\n",
    "        },\n",
    "        # 2. Step the outflow component to ensure its output is updated.\n",
    "        {\n",
    "            \"component\": \"constant_outflow\",\n",
    "            \"method\": \"step\",\n",
    "            \"args\": {\"dt\": \"simulation.dt\", \"t\": \"simulation.t\"}\n",
    "        },\n",
    "        # 3. Finally, step the reservoir, which will now use the new inflow value.\n",
    "        {\n",
    "            \"component\": \"reservoir_A\",\n",
    "            \"method\": \"step\",\n",
    "            \"args\": {\"dt\": \"simulation.dt\"}\n",
    "        }\n",
    "    ],\n",
    "    \n",
    "    # --- Logger Configuration ---\n",
    "    # Tells the manager which variables to record at each time step.\n",
    "    \"logger_config\": [\n",
    "        \"reservoir_A.state.level\",\n",
    "        \"pid_controller.state.output\",\n",
    "        \"reservoir_A.input.inflow\"\n",
    "    ]\n",
    "}"
   ]
  },
  {
   "cell_type": "markdown",
   "metadata": {},
   "source": [
    "## 4. Running the Simulation and Plotting Results"
   ]
  },
  {
   "cell_type": "code",
   "execution_count": null,
   "metadata": {},
   "outputs": [],
   "source": [
    "# Instantiate the manager and run the simulation with the config\n",
    "manager = SimulationManager(pid_control_config)\n",
    "results_df = manager.run()\n",
    "\n",
    "# Display the first few rows of the results\n",
    "print(\"Simulation Results:\")\n",
    "print(results_df.head())\n",
    "\n",
    "# Plot the results\n",
    "plt.figure(figsize=(12, 6))\n",
    "plt.plot(results_df['time'], results_df['reservoir_A.state.level'], label='Water Level')\n",
    "plt.axhline(y=10.0, color='r', linestyle='--', label='Setpoint')\n",
    "plt.xlabel('Time (s)')\n",
    "plt.ylabel('Water Level (m)')\n",
    "plt.title('Simple PID Control Simulation')\n",
    "plt.legend()\n",
    "plt.grid(True)\n",
    "plt.show()"
   ]
  },
  {
   "cell_type": "markdown",
   "metadata": {},
   "source": [
    "The plot shows the PID controller successfully driving the water level towards the 10m setpoint, demonstrating a stable, closed-loop control system configured entirely from a single dictionary."
   ]
  }
 ],
 "metadata": {
  "kernelspec": {
   "display_name": "Python 3",
   "language": "python",
   "name": "python3"
  },
  "language_info": {
   "codemirror_mode": {
    "name": "ipython",
    "version": 3
   },
   "file_extension": ".py",
   "mimetype": "text/x-python",
   "name": "python",
   "nbconvert_exporter": "python",
   "pygments_lexer": "ipython3",
   "version": "3.10.9"
  }
 },
 "nbformat": 4,
 "nbformat_minor": 4
}
