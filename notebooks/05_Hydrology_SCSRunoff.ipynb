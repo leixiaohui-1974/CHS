{
 "cells": [
  {
   "cell_type": "markdown",
   "metadata": {},
   "source": [
    "# Core Model Guide: SCSRunoffModel\n",
    "\n",
    "This notebook provides a detailed guide to the `SCSRunoffModel`, which implements the widely-used **SCS Curve Number (CN)** method for estimating direct runoff from a rainfall event."
   ]
  },
  {
   "cell_type": "markdown",
   "metadata": {},
   "source": [
    "## 1. Theoretical Background\n",
    "\n",
    "The SCS-CN method is an empirical model developed by the USDA Natural Resources Conservation Service (NRCS). It's based on the following relationship:\n",
    "\n",
    "```\n",
    "Q = (P - Ia)² / (P - Ia + S)\n",
    "```\n",
    "\n",
    "Where:\n",
    "- `Q` is the direct runoff depth.\n",
    "- `P` is the total rainfall depth.\n",
    "- `Ia` is the **initial abstraction**, representing all losses before runoff begins (e.g., interception by vegetation, surface storage, infiltration). It is empirically related to `S` by `Ia = 0.2 * S`.\n",
    "- `S` is the **potential maximum retention** after runoff begins. It is related to the Curve Number (CN) by the formula:\n",
    "\n",
    "```\n",
    "S = (1000 / CN) - 10\n",
    "```\n",
    "\n",
    "The **Curve Number (CN)** is a dimensionless parameter ranging from 30 to 100, which represents the runoff potential of an area based on its soil type, land use, and antecedent moisture conditions."
   ]
  },
  {
   "cell_type": "markdown",
   "metadata": {},
   "source": [
    "## 2. API and Parameters\n",
    "\n",
    "The `SCSRunoffModel` is a very simple class. Its `calculate_runoff` method takes the following arguments:\n",
    "\n",
    "- `rainfall` (float): The rainfall depth for the time step.\n",
    "- `sub_basin_params` (dict): A dictionary containing the parameters for the basin. The model expects a `\"CN\"` key in this dictionary.\n",
    "- `dt` (float): The time step duration (not directly used in the formula but part of the standard interface)."
   ]
  },
  {
   "cell_type": "code",
   "execution_count": null,
   "metadata": {},
   "outputs": [],
   "source": [
    "import sys\n",
    "import os\n",
    "import matplotlib.pyplot as plt\n",
    "import numpy as np\n",
    "\n",
    "# Add the project root to the path\n",
    "sys.path.insert(0, os.path.abspath(os.path.join(os.getcwd(), '..')))\n",
    "\n",
    "from water_system_sdk.src.chs_sdk.modules.modeling.hydrology.runoff_models import SCSRunoffModel"
   ]
  },
  {
   "cell_type": "markdown",
   "metadata": {},
   "source": [
    "## 3. Code Example: Rainfall-Runoff Relationship\n",
    "\n",
    "Let's instantiate the model and see how the runoff changes for different rainfall amounts for a given Curve Number."
   ]
  },
  {
   "cell_type": "code",
   "execution_count": null,
   "metadata": {},
   "outputs": [],
   "source": [
    "# 1. Model Initialization\n",
    "scs_model = SCSRunoffModel()\n",
    "\n",
    "# 2. Define Parameters\n",
    "cn = 85 # A moderately high curve number\n",
    "params = {\"CN\": cn}\n",
    "dt = 1.0 # Not used, but required by the interface\n",
    "\n",
    "# 3. Run for a range of rainfall values\n",
    "rainfall_values = np.linspace(0, 10, 100) # Test rainfall from 0 to 10\n",
    "runoff_values = []\n",
    "\n",
    "for p in rainfall_values:\n",
    "    runoff = scs_model.calculate_runoff(rainfall=p, sub_basin_params=params, dt=dt)\n",
    "    runoff_values.append(runoff)\n",
    "\n",
    "print(f\"Runoff calculation for CN={cn} complete.\")"
   ]
  },
  {
   "cell_type": "markdown",
   "metadata": {},
   "source": [
    "## 4. Visualization\n",
    "\n",
    "Plotting rainfall vs. runoff shows the characteristic nonlinear relationship of the SCS-CN method."
   ]
  },
  {
   "cell_type": "code",
   "execution_count": null,
   "metadata": {},
   "outputs": [],
   "source": [
    "# Let's also calculate S and Ia for context\n",
    "S = (1000 / cn) - 10\n",
    "Ia = 0.2 * S\n",
    "\n",
    "plt.figure(figsize=(10, 6))\n",
    "plt.plot(rainfall_values, runoff_values, label=f'Runoff (CN={cn})', color='blue')\n",
    "plt.axvline(x=Ia, color='r', linestyle='--', label=f'Initial Abstraction (Ia) = {Ia:.2f}')\n",
    "plt.title('SCS-CN Rainfall-Runoff Relationship')\n",
    "plt.xlabel('Total Rainfall (P)')\n",
    "plt.ylabel('Direct Runoff (Q)')\n",
    "plt.legend()\n",
    "plt.grid(True)\n",
    "plt.show()"
   ]
  },
  {
   "cell_type": "markdown",
   "metadata": {},
   "source": [
    "The plot clearly shows that runoff is zero until the total rainfall `P` exceeds the initial abstraction `Ia`. After that threshold, the runoff begins and increases nonlinearly with increasing rainfall, eventually approaching a 1:1 relationship for very high rainfall amounts."
   ]
  }
 ],
 "metadata": {
  "kernelspec": {
   "display_name": "Python 3",
   "language": "python",
   "name": "python3"
  },
  "language_info": {
   "codemirror_mode": {
    "name": "ipython",
    "version": 3
   },
   "file_extension": ".py",
   "mimetype": "text/x-python",
   "name": "python",
   "nbconvert_exporter": "python",
   "pygments_lexer": "ipython3",
   "version": "3.10.9"
  }
 },
 "nbformat": 4,
 "nbformat_minor": 4
}
