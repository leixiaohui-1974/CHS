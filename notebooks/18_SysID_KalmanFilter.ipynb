{
 "cells": [
  {
   "cell_type": "markdown",
   "metadata": {},
   "source": [
    "# System Identification Guide: ParameterKalmanFilterAgent\n",
    "\n",
    "This notebook provides a guide to the `ParameterKalmanFilterAgent`. This agent uses a **Kalman Filter (KF)**, a more statistically rigorous approach, to perform online parameter estimation. "
   ]
  },
  {
   "cell_type": "markdown",
   "metadata": {},
   "source": [
    "## 1. Theoretical Background\n",
    "\n",
    "The Kalman Filter is an optimal estimator for linear systems with Gaussian noise. It operates in a two-step **predict-update** cycle. While it is famously used for state estimation (e.g., tracking a moving object), it can be adapted for parameter estimation.\n",
    "\n",
    "The key insight is to treat the unknown parameters of the system as the **state** to be estimated. The process model assumes the parameters are mostly constant (but allows for some random change, modeled by `process_noise_Q`), and the measurement model describes how those parameters relate the system's inputs and outputs.\n",
    "\n",
    "Like the `RLSAgent`, this implementation is designed for a first-order system:\n",
    "\n",
    "`y(k) = a₁ * y(k-1) + b₁ * u(k-1)`\n",
    "\n",
    "The KF approach is powerful because it explicitly models both **process noise** (the possibility that the true parameters might slowly change) and **measurement noise** (the inaccuracy of our sensors)."
   ]
  },
  {
   "cell_type": "code",
   "execution_count": null,
   "metadata": {},
   "outputs": [],
   "source": [
    "import sys\n",
    "import os\n",
    "import matplotlib.pyplot as plt\n",
    "import numpy as np\n",
    "\n",
    "# Add the project root to the path\n",
    "sys.path.insert(0, os.path.abspath(os.path.join(os.getcwd(), '..')))\n",
    "\n",
    "from water_system_sdk.src.chs_sdk.modules.control.kf_estimator import ParameterKalmanFilterAgent"
   ]
  },
  {
   "cell_type": "markdown",
   "metadata": {},
   "source": [
    "## 2. Code Example: Estimating Parameters with KF\n",
    "\n",
    "We will use the exact same virtual system as in the RLS tutorial to allow for a direct comparison. We will also add some noise to the measurements to demonstrate the KF's ability to handle it."
   ]
  },
  {
   "cell_type": "code",
   "execution_count": null,
   "metadata": {},
   "outputs": [],
   "source": [
    "# 1. Define the \"True\" System and the KF Agent\n",
    "true_a1 = 0.95\n",
    "true_b1 = 0.5\n",
    "measurement_noise_std_dev = 0.1\n",
    "\n",
    "kf_agent = ParameterKalmanFilterAgent(\n",
    "    initial_params={\"a1\": 0.0, \"b1\": 0.0}, # Start with no knowledge\n",
    "    process_noise_Q=1e-5, # Assume parameters are very stable but might change slightly\n",
    "    measurement_noise_R=measurement_noise_std_dev**2 # Variance of the measurement noise\n",
    ")\n",
    "\n",
    "# 2. Simulation Setup\n",
    "n_steps = 100\n",
    "u_signal = np.random.rand(n_steps) * 10\n",
    "y_signal = np.zeros(n_steps)\n",
    "y_prev = 0\n",
    "u_prev = 0\n",
    "\n",
    "history = {\n",
    "    \"a1_estimate\": [],\n",
    "    \"b1_estimate\": []\n",
    "}\n",
    "\n",
    "# 3. Simulation Loop\n",
    "for k in range(n_steps):\n",
    "    # Simulate the \"true\" system\n",
    "    true_y = true_a1 * y_prev + true_b1 * u_prev\n",
    "    # Add noise to create a realistic sensor measurement\n",
    "    measured_y = true_y + np.random.normal(0, measurement_noise_std_dev)\n",
    "    \n",
    "    # Feed the current input and the *noisy* output to the KF agent\n",
    "    kf_agent.step(inflow=u_signal[k], observed_outflow=measured_y)\n",
    "    \n",
    "    # Get the agent's current best guess\n",
    "    current_estimates = kf_agent.get_state()\n",
    "    \n",
    "    # Record history\n",
    "    history[\"a1_estimate\"].append(current_estimates['a1'])\n",
    "    history[\"b1_estimate\"].append(current_estimates['b1'])\n",
    "    \n",
    "    # Update state for the next iteration (using the true value)\n",
    "    y_prev = true_y\n",
    "    u_prev = u_signal[k]\n",
    "\n",
    "print(\"Simulation complete.\")\n",
    "print(f\"Final a1 estimate: {history['a1_estimate'][-1]:.4f} (True value: {true_a1})\")\n",
    "print(f\"Final b1 estimate: {history['b1_estimate'][-1]:.4f} (True value: {true_b1})\")"
   ]
  },
  {
   "cell_type": "markdown",
   "metadata": {},
   "source": [
    "## 4. Visualization\n",
    "\n",
    "Plotting the estimated parameters over time shows the Kalman Filter's convergence."
   ]
  },
  {
   "cell_type": "code",
   "execution_count": null,
   "metadata": {},
   "outputs": [],
   "source": [
    "time_axis = np.arange(n_steps)\n",
    "\n",
    "plt.figure(figsize=(12, 6))\n",
    "plt.plot(time_axis, history['a1_estimate'], label='a1 Estimate (KF)')\n",
    "plt.axhline(y=true_a1, color='r', linestyle='--', label=f'True a1 = {true_a1}')\n",
    "plt.plot(time_axis, history['b1_estimate'], label='b1 Estimate (KF)')\n",
    "plt.axhline(y=true_b1, color='g', linestyle='--', label=f'True b1 = {true_b1}')\n",
    "\n",
    "plt.title('Kalman Filter Parameter Estimation Over Time')\n",
    "plt.xlabel('Time Step (k)')\n",
    "plt.ylabel('Parameter Value')\n",
    "plt.legend()\n",
    "plt.grid(True)\n",
    "plt.ylim(0, 1.2)\n",
    "plt.show()"
   ]
  },
  {
   "cell_type": "markdown",
   "metadata": {},
   "source": [
    "Despite the noisy measurements, the plot shows that the Kalman Filter still effectively learns the system's true parameters, converging smoothly towards the correct values. The tuning of `process_noise_Q` and `measurement_noise_R` is key to balancing the filter's responsiveness to new data against its ability to reject noise."
   ]
  }
 ],
 "metadata": {
  "kernelspec": {
   "display_name": "Python 3",
   "language": "python",
   "name": "python3"
  },
  "language_info": {
   "codemirror_mode": {
    "name": "ipython",
    "version": 3
   },
   "file_extension": ".py",
   "mimetype": "text/x-python",
   "name": "python",
   "nbconvert_exporter": "python",
   "pygments_lexer": "ipython3",
   "version": "3.10.9"
  }
 },
 "nbformat": 4,
 "nbformat_minor": 4
}
