{
 "cells": [
  {
   "cell_type": "markdown",
   "metadata": {},
   "source": [
    "# Core Model Guide: LinearTank\n",
    "\n",
    "This notebook provides a detailed guide to the `LinearTank` model, which is the most fundamental storage model in the CHS SDK. It's used to represent any storage element where the relationship between water level and storage volume is linear (i.e., it has a constant surface area), such as a vertical-walled tank or a simplified reservoir."
   ]
  },
  {
   "cell_type": "markdown",
   "metadata": {},
   "source": [
    "## 1. Theoretical Background\n",
    "\n",
    "The `LinearTank` model is based on the principle of mass conservation. The change in storage volume over a time step (`dt`) is equal to the total inflow minus the total outflow.\n",
    "\n",
    "```\n",
    "d(Volume) / dt = Inflow - Outflow\n",
    "```\n",
    "\n",
    "For a tank with a constant surface area (`A`), the volume is simply `Volume = Level * A`. Therefore, the change in level is:\n",
    "\n",
    "```\n",
    "d(Level) / dt = (Inflow - Outflow) / A\n",
    "```\n",
    "\n",
    "The model uses this simple equation to update its water level at each time step."
   ]
  },
  {
   "cell_type": "markdown",
   "metadata": {},
   "source": [
    "## 2. API and Parameters\n",
    "\n",
    "Let's start by importing the necessary libraries and the model itself."
   ]
  },
  {
   "cell_type": "code",
   "execution_count": null,
   "metadata": {},
   "outputs": [],
   "source": [
    "import sys\n",
    "import os\n",
    "import matplotlib.pyplot as plt\n",
    "import numpy as np\n",
    "\n",
    "# Add the project root to the path to allow imports from chs_sdk\n",
    "sys.path.insert(0, os.path.abspath(os.path.join(os.getcwd(), '..')))\n",
    "\n",
    "from water_system_sdk.src.chs_sdk.modules.modeling.storage_models import LinearTank"
   ]
  },
  {
   "cell_type": "markdown",
   "metadata": {},
   "source": [
    "The `LinearTank` is initialized with the following parameters:\n",
    "\n",
    "- `area` (float): The constant surface area of the tank in square meters (m²).\n",
    "- `initial_level` (float): The water level at the beginning of the simulation in meters (m).\n",
    "- `min_level` (float, optional): The minimum allowed water level. Defaults to 0.\n",
    "- `max_level` (float, optional): The maximum allowed water level. Defaults to 999."
   ]
  },
  {
   "cell_type": "markdown",
   "metadata": {},
   "source": [
    "## 3. Code Example\n",
    "\n",
    "Let's create an example where we simulate a tank over 100 time steps. We'll start with a constant inflow and then simulate a sudden increase in inflow to see how the tank level responds."
   ]
  },
  {
   "cell_type": "code",
   "execution_count": null,
   "metadata": {},
   "outputs": [],
   "source": [
    "# 1. Model Initialization\n",
    "tank = LinearTank(\n",
    "    area=1000.0,      # 1000 m^2 area\n",
    "    initial_level=5.0 # Starting at 5m deep\n",
    ")\n",
    "\n",
    "# 2. Simulation Setup\n",
    "dt = 3600  # Time step of 1 hour (3600 seconds)\n",
    "simulation_duration = 100 # hours\n",
    "n_steps = simulation_duration\n",
    "\n",
    "history = {\n",
    "    \"time\": [],\n",
    "    \"inflow\": [],\n",
    "    \"level\": []\n",
    "}\n",
    "\n",
    "# 3. Simulation Loop\n",
    "for t in range(n_steps):\n",
    "    # Define a time-varying inflow\n",
    "    if t < 50:\n",
    "        inflow = 1.0 # 1 m^3/s for the first 50 hours\n",
    "    else:\n",
    "        inflow = 2.0 # Double the inflow for the last 50 hours\n",
    "    \n",
    "    # Set the inputs for the current time step\n",
    "    tank.input.inflow = inflow\n",
    "    tank.input.release_outflow = 0.5 # Constant outflow\n",
    "    \n",
    "    # Run the model for one step\n",
    "    tank.step(dt=dt)\n",
    "    \n",
    "    # Record the results\n",
    "    history[\"time\"].append(t * dt / 3600) # Record time in hours\n",
    "    history[\"inflow\"].append(inflow)\n",
    "    history[\"level\"].append(tank.level)\n",
    "\n",
    "print(\"Simulation complete.\")"
   ]
  },
  {
   "cell_type": "markdown",
   "metadata": {},
   "source": [
    "## 4. Visualization\n",
    "\n",
    "Now we can plot the results stored in our `history` dictionary to visualize the tank's behavior."
   ]
  },
  {
   "cell_type": "code",
   "execution_count": null,
   "metadata": {},
   "outputs": [],
   "source": [
    "fig, ax1 = plt.subplots(figsize=(12, 6))\n",
    "\n",
    "# Plot Level on the primary y-axis\n",
    "color = 'tab:blue'\n",
    "ax1.set_xlabel('Time (hours)')\n",
    "ax1.set_ylabel('Water Level (m)', color=color)\n",
    "ax1.plot(history['time'], history['level'], color=color, label='Water Level')\n",
    "ax1.tick_params(axis='y', labelcolor=color)\n",
    "ax1.grid(True)\n",
    "\n",
    "# Create a second y-axis to plot the inflow\n",
    "ax2 = ax1.twinx()\n",
    "color = 'tab:green'\n",
    "ax2.set_ylabel('Inflow (m³/s)', color=color)\n",
    "ax2.plot(history['time'], history['inflow'], color=color, linestyle='--', label='Inflow')\n",
    "ax2.tick_params(axis='y', labelcolor=color)\n",
    "\n",
    "fig.tight_layout()  # Adjust layout to prevent labels from overlapping\n",
    "plt.title('LinearTank Response to Changing Inflow')\n",
    "plt.show()"
   ]
  },
  {
   "cell_type": "markdown",
   "metadata": {},
   "source": [
    "The plot clearly shows the water level rising at a constant rate for the first 50 hours. When the inflow doubles at hour 50, the slope of the water level plot increases, indicating a faster rise, as expected."
   ]
  }
 ],
 "metadata": {
  "kernelspec": {
   "display_name": "Python 3",
   "language": "python",
   "name": "python3"
  },
  "language_info": {
   "codemirror_mode": {
    "name": "ipython",
    "version": 3
   },
   "file_extension": ".py",
   "mimetype": "text/x-python",
   "name": "python",
   "nbconvert_exporter": "python",
   "pygments_lexer": "ipython3",
   "version": "3.10.9"
  }
 },
 "nbformat": 4,
 "nbformat_minor": 4
}
