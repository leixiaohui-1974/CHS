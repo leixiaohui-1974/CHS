{
 "cells": [
  {
   "cell_type": "markdown",
   "metadata": {},
   "source": [
    "# Core Model Guide: XinanjiangModel\n",
    "\n",
    "This notebook provides a guide to the `XinanjiangModel`, a classic and influential conceptual rainfall-runoff model. It is particularly well-suited for humid and semi-humid regions."
   ]
  },
  {
   "cell_type": "markdown",
   "metadata": {},
   "source": [
    "## 1. Theoretical Background\n",
    "\n",
    "The Xinanjiang model is based on the concept of **saturation excess runoff**. This means that runoff is generated when the soil becomes fully saturated and can no longer absorb more water. This is different from the infiltration excess mechanism (where runoff occurs when rainfall intensity exceeds the soil's infiltration capacity).\n",
    "\n",
    "Key concepts of the model include:\n",
    "\n",
    "- **Tension Water Capacity**: The model divides the soil into upper, lower, and deep layers, each with its own tension water capacity. The distribution of this capacity over the catchment area is assumed to be non-uniform, which is a core idea of the model.\n",
    "- **Three Soil Layers**: The model considers evaporation from three soil layers: upper, lower, and deep.\n",
    "- **Runoff Components**: The total runoff is separated into different components, such as surface runoff, interflow, and groundwater flow, which are then routed to the catchment outlet."
   ]
  },
  {
   "cell_type": "markdown",
   "metadata": {},
   "source": [
    "## 2. API and Parameters\n",
    "\n",
    "The `XinanjiangModel` in the CHS SDK implements the core runoff generation part of the model. Its `calculate_runoff` method uses the following key parameters, typically provided in a `sub_basin_params` dictionary:\n",
    "\n",
    "- `WM`: The average tension water capacity of the catchment (mm).\n",
    "- `B`: The exponent of the tension water capacity curve (dimensionless).\n",
    "- `IM`: The fraction of the catchment area that is impervious (dimensionless).\n",
    "\n",
    "The model also maintains an internal state:\n",
    "\n",
    "- `W`: The current tension water content of the soil (mm)."
   ]
  },
  {
   "cell_type": "code",
   "execution_count": null,
   "metadata": {},
   "outputs": [],
   "source": [
    "import sys\n",
    "import os\n",
    "import matplotlib.pyplot as plt\n",
    "import numpy as np\n",
    "import math\n",
    "\n",
    "# Add the project root to the path\n",
    "sys.path.insert(0, os.path.abspath(os.path.join(os.getcwd(), '..')))\n",
    "\n",
    "from water_system_sdk.src.chs_sdk.modules.modeling.hydrology.runoff_models import XinanjiangModel"
   ]
  },
  {
   "cell_type": "markdown",
   "metadata": {},
   "source": [
    "## 3. Code Example: Single Step Calculation\n",
    "\n",
    "Due to the model's complexity, we will demonstrate a single time step calculation to show how rainfall is converted to runoff and how the soil moisture state is updated. We will manually verify the calculation."
   ]
  },
  {
   "cell_type": "code",
   "execution_count": null,
   "metadata": {},
   "outputs": [],
   "source": [
    "# 1. Model and Parameter Setup\n",
    "params = {\"WM\": 100.0, \"B\": 0.3}\n",
    "initial_W = 50.0  # Assume soil is 50% saturated\n",
    "rainfall = 20.0   # 20mm of rain in this time step\n",
    "\n",
    "model = XinanjiangModel(states={\"initial_W\": initial_W})\n",
    "\n",
    "# 2. Manual Calculation (for verification)\n",
    "W = initial_W\n",
    "WM = params[\"WM\"]\n",
    "B = params[\"B\"]\n",
    "\n",
    "# Potential total tension water capacity\n",
    "WMM = WM * (1 + B)\n",
    "# Tension water capacity of the point where soil is saturated\n",
    "A = WMM * (1 - (1 - W / WM)**(1 / (1 + B)))\n",
    "\n",
    "# Check if rainfall exceeds storage capacity\n",
    "if rainfall + A >= WMM:\n",
    "    expected_runoff = rainfall - (WM - W)\n",
    "else:\n",
    "    term = 1 - (rainfall + A) / WMM\n",
    "    expected_runoff = rainfall + W - WM + WM * (term**(1 + B))\n",
    "\n",
    "expected_runoff = max(0, expected_runoff)\n",
    "expected_final_W = W + rainfall - expected_runoff\n",
    "\n",
    "# 3. Run the model's calculation\n",
    "actual_runoff = model.calculate_runoff(rainfall, params, dt=1.0)\n",
    "actual_final_W = model.W\n",
    "\n",
    "# 4. Print and Verify\n",
    "print(f\"Initial Soil Moisture (W): {initial_W:.2f} mm\")\n",
    "print(f\"Rainfall (P): {rainfall:.2f} mm\")\n",
    "print(f\"--- Calculations ---\")\n",
    "print(f\"Expected Runoff: {expected_runoff:.4f} mm\")\n",
    "print(f\"Actual Runoff:   {actual_runoff:.4f} mm\")\n",
    "print(f\"Expected Final W: {expected_final_W:.4f} mm\")\n",
    "print(f\"Actual Final W:   {actual_final_W:.4f} mm\")\n",
    "\n",
    "# Assert that our manual calculation matches the model's output\n",
    "np.testing.assert_almost_equal(expected_runoff, actual_runoff, decimal=5)\n",
    "np.testing.assert_almost_equal(expected_final_W, actual_final_W, decimal=5)"
   ]
  },
  {
   "cell_type": "markdown",
   "metadata": {},
   "source": [
    "The code above shows that the model's internal calculation matches the step-by-step formula for the Xinanjiang runoff generation process. By running this calculation in a loop with a time series of rainfall and evaporation data, a complete runoff hydrograph can be generated."
   ]
  }
 ],
 "metadata": {
  "kernelspec": {
   "display_name": "Python 3",
   "language": "python",
   "name": "python3"
  },
  "language_info": {
   "codemirror_mode": {
    "name": "ipython",
    "version": 3
   },
   "file_extension": ".py",
   "mimetype": "text/x-python",
   "name": "python",
   "nbconvert_exporter": "python",
   "pygments_lexer": "ipython3",
   "version": "3.10.9"
  }
 },
 "nbformat": 4,
 "nbformat_minor": 4
}
