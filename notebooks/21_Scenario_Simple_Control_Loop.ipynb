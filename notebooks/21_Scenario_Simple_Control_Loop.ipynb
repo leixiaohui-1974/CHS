{
 "cells": [
  {
   "cell_type": "markdown",
   "metadata": {},
   "source": [
    "# Scenario-Based Tutorial: A Simple Control Loop\n",
    "\n",
    "This notebook is based on the runnable scenario found in `scenarios/case_simple_control_loop/`. It demonstrates a more agent-centric way of defining and running a simulation, using a YAML configuration file to define an **\"agent society\"**."
   ]
  },
  {
   "cell_type": "markdown",
   "metadata": {},
   "source": [
    "## 1. Goal of the Scenario\n",
    "\n",
    "The goal is to maintain a water level of **10.0m** in a tank. \n",
    "\n",
    "This scenario is different from previous examples because it assembles a complete society of specialized agents that communicate via a message bus:\n",
    "\n",
    "- An **InflowAgent** reads inflow data from a CSV file and publishes it.\n",
    "- A **TankAgent** represents the physical tank. It subscribes to the inflow data and to commands for its release valve. It publishes its own state (e.g., water level).\n",
    "- A **PIDAgent** subscribes to the tank's state, compares it to a setpoint, and publishes a command for the valve.\n",
    "- A **ValveAgent** subscribes to the PID's commands and simulates a physical valve, which affects the tank's outflow.\n",
    "- A **DataLoggerAgent** subscribes to various topics to log the results to a file."
   ]
  },
  {
   "cell_type": "markdown",
   "metadata": {},
   "source": [
    "## 2. The Configuration File (`config.yaml`)\n",
    "\n",
    "The entire society of agents and the simulation parameters are defined in a single YAML file. This demonstrates a powerful, declarative way to build complex systems."
   ]
  },
  {
   "cell_type": "code",
   "execution_count": null,
   "metadata": {},
   "outputs": [],
   "source": [
    "# We will use the pyyaml library to load and display the config\n",
    "import yaml\n",
    "\n",
    "config_path = '../scenarios/case_simple_control_loop/config.yaml'\n",
    "with open(config_path, 'r') as f:\n",
    "    config = yaml.safe_load(f)\n",
    "\n",
    "# Display the loaded configuration\n",
    "print(yaml.dump(config, sort_keys=False))"
   ]
  },
  {
   "cell_type": "markdown",
   "metadata": {},
   "source": [
    "## 3. The Runner Script (`run.py`)\n",
    "\n",
    "The Python script to run this scenario is very simple. It uses a `Launcher` class, which is a high-level utility that handles:\n",
    "1. Parsing the YAML file.\n",
    "2. Creating an `AgentKernel`.\n",
    "3. Instantiating all the agents defined in the `agent_society` section.\n",
    "4. Running the simulation."
   ]
  },
  {
   "cell_type": "code",
   "execution_count": null,
   "metadata": {},
   "outputs": [],
   "source": [
    "import sys\n",
    "import os\n",
    "import pandas as pd\n",
    "import matplotlib.pyplot as plt\n",
    "\n",
    "# Add the project root to the path\n",
    "sys.path.insert(0, os.path.abspath(os.path.join(os.getcwd(), '..')))\n",
    "\n",
    "from chs_sdk.core.launcher import Launcher\n",
    "\n",
    "# --- Execute the Simulation ---\n",
    "print(\"Starting simulation...\")\n",
    "launcher = Launcher()\n",
    "launcher.run(config)\n",
    "print(\"Simulation complete.\")\n",
    "\n",
    "# --- Load and Plot Results ---\n",
    "# The DataLoggerAgent saved the results to 'simulation_results.csv'\n",
    "results_df = pd.read_csv('simulation_results.csv')\n",
    "\n",
    "print(\"\\nFirst 5 rows of results:\")\n",
    "print(results_df.head())"
   ]
  },
  {
   "cell_type": "markdown",
   "metadata": {},
   "source": [
    "## 4. Visualization\n",
    "\n",
    "Let's plot the tank's water level and the valve command signal from the results file."
   ]
  },
  {
   "cell_type": "code",
   "execution_count": null,
   "metadata": {},
   "outputs": [],
   "source": [
    "fig, ax1 = plt.subplots(figsize=(12, 6))\n",
    "\n",
    "# Plot Water Level\n",
    "color = 'tab:blue'\n",
    "ax1.set_xlabel('Time (s)')\n",
    "ax1.set_ylabel('Water Level (m)', color=color)\n",
    "# The column name is a bit complex, it's how the logger names it\n",
    "level_column = \"('main_tank', 'level')\"\n",
    "ax1.plot(results_df['time'], results_df[level_column], color=color, label='Water Level')\n",
    "ax1.axhline(y=10.0, color='r', linestyle='--', label='Setpoint')\n",
    "ax1.tick_params(axis='y', labelcolor=color)\n",
    "\n",
    "# Plot Valve Command on a second y-axis\n",
    "ax2 = ax1.twinx()\n",
    "color = 'tab:green'\n",
    "ax2.set_ylabel('Valve Command', color=color)\n",
    "command_column = \"('pid_controller', 'output')\"\n",
    "ax2.plot(results_df['time'], results_df[command_column], color=color, linestyle=':', alpha=0.7, label='Valve Command')\n",
    "ax2.tick_params(axis='y', labelcolor=color)\n",
    "\n",
    "plt.title('Agent-Based PID Control Scenario')\n",
    "fig.tight_layout()\n",
    "# Manually create legends\n",
    "lines, labels = ax1.get_legend_handles_labels()\n",
    "lines2, labels2 = ax2.get_legend_handles_labels()\n",
    "ax2.legend(lines + lines2, labels + labels2, loc=0)\n",
    "plt.grid(True)\n",
    "plt.show()"
   ]
  },
  {
   "cell_type": "markdown",
   "metadata": {},
   "source": [
    "This notebook demonstrates a powerful, declarative, and agent-oriented approach to building simulations. Instead of manually connecting components, we define a society of agents that communicate over a message bus, which is a very scalable and flexible architecture."
   ]
  }
 ],
 "metadata": {
  "kernelspec": {
   "display_name": "Python 3",
   "language": "python",
   "name": "python3"
  },
  "language_info": {
   "codemirror_mode": {
    "name": "ipython",
    "version": 3
   },
   "file_extension": ".py",
   "mimetype": "text/x-python",
   "name": "python",
   "nbconvert_exporter": "python",
   "pygments_lexer": "ipython3",
   "version": "3.10.9"
  }
 },
 "nbformat": 4,
 "nbformat_minor": 4
}
