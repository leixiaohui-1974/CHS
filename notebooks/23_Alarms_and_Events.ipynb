{
 "cells": [
  {
   "cell_type": "markdown",
   "metadata": {},
   "source": [
    "# Evaluation & Warning Guides: The AlarmEngine\n",
    "\n",
    "This notebook provides a guide to the `AlarmEngine`, a key component of the `chs-scada-dispatch` service. Its purpose is to continuously monitor the state of the system, check for predefined alarm conditions, and generate events when those conditions are met. This is a critical function for system safety and operational awareness."
   ]
  },
  {
   "cell_type": "markdown",
   "metadata": {},
   "source": [
    "## 1. How It Works: Rules and Events\n",
    "\n",
    "The `AlarmEngine` operates on a simple but powerful principle:\n",
    "\n",
    "1.  **Loads Rules**: On startup, it loads a set of human-readable rules from a `rules.yaml` file.\n",
    "2.  **Fetches Data**: Periodically, it fetches the latest status of all devices from the `TimeSeriesDB`.\n",
    "3.  **Evaluates Conditions**: For each device, it checks if any of the rules apply. A rule's `condition` is a simple Python expression that is evaluated against the device's data.\n",
    "4.  **Generates Events**: If a rule's condition is met and that alarm is not already active, the engine generates a new alarm event and stores it in the `EventStore`."
   ]
  },
  {
   "cell_type": "markdown",
   "metadata": {},
   "source": [
    "### Example `rules.yaml`\n",
    "\n",
    "The logic is defined entirely in YAML, so no code changes are needed to add new alarms. A typical rule looks like this:\n",
    "\n",
    "```yaml\n",
    "- rule_name: \"Reservoir High Level Warning\"\n",
    "  device_id_pattern: \"res_*\"  # Applies to all devices starting with 'res_'\n",
    "  condition: \"values.level > 150.0\"\n",
    "  severity: \"WARNING\"\n",
    "  message: \"Reservoir {device_id} level {values.level:.2f}m has exceeded the 150.0m warning threshold!\"\n",
    "\n",
    "- rule_name: \"Pump Offline Alert\"\n",
    "  device_id_pattern: \"pump_station_*\"\n",
    "  condition: \"values.pump_status == 0\"\n",
    "  severity: \"CRITICAL\"\n",
    "  message: \"The pump at {device_id} has gone offline!\"\n",
    "```"
   ]
  },
  {
   "cell_type": "markdown",
   "metadata": {},
   "source": [
    "## 2. Code Example: Triggering an Alarm\n",
    "\n",
    "To demonstrate the `AlarmEngine` in a self-contained way, we first need to create **mock** versions of its dependencies (`TimeSeriesDB` and `EventStore`) that work in memory without a real database."
   ]
  },
  {
   "cell_type": "code",
   "execution_count": null,
   "metadata": {},
   "outputs": [],
   "source": [
    "import sys\n",
    "import os\n",
    "import yaml\n",
    "import time\n",
    "\n",
    "# Add the project root to the path\n",
    "sys.path.insert(0, os.path.abspath(os.path.join(os.getcwd(), '..')))\n",
    "\n",
    "# We need to import the engine itself, but also create mocks for its dependencies\n",
    "from chs-scada-dispatch.alarm_engine.engine import AlarmEngine\n",
    "\n",
    "# --- Mock Database Classes for the Tutorial ---\n",
    "\n",
    "class MockTimeSeriesDB:\n",
    "    \"\"\"A mock TimeSeriesDB that just holds a dictionary of statuses.\"\"\"\n",
    "    def __init__(self, statuses):\n",
    "        self._statuses = statuses\n",
    "    def get_latest_statuses(self):\n",
    "        return self._statuses\n",
    "\n",
    "class MockEventStore:\n",
    "    \"\"\"A mock EventStore that just holds a list of events in memory.\"\"\"\n",
    "    def __init__(self):\n",
    "        self.events = []\n",
    "    def add_event(self, event_data):\n",
    "        print(f\"EVENT STORED: {event_data}\")\n",
    "        self.events.append(event_data)\n"
   ]
  },
  {
   "cell_type": "markdown",
   "metadata": {},
   "source": [
    "Now, we can set up the test scenario. We will:\n",
    "1. Create a mock `rules.yaml` file on the fly.\n",
    "2. Create mock device data where one device violates a rule.\n",
    "3. Run the `AlarmEngine`'s check cycle once.\n",
    "4. Verify that the correct alarm was added to our mock `EventStore`."
   ]
  },
  {
   "cell_type": "code",
   "execution_count": null,
   "metadata": {},
   "outputs": [],
   "source": [
    "# 1. Create mock rules file\n",
    "rules_content = \"\"\"\n",
    "- rule_name: \"High Level Warning\"\n",
    "  device_id_pattern: \"tank_*\"\n",
    "  condition: \"values.level > 50\"\n",
    "  severity: \"WARNING\"\n",
    "  message: \"Tank {device_id} level is high: {values.level}m.\"\n",
    "\"\"\"\n",
    "# The engine expects the file to be in a specific relative path\n",
    "rules_dir = 'chs-scada-dispatch/alarm_engine'\n",
    "os.makedirs(rules_dir, exist_ok=True)\n",
    "with open(os.path.join(rules_dir, 'rules.yaml'), 'w') as f:\n",
    "    f.write(rules_content)\n",
    "\n",
    "# 2. Create mock device data\n",
    "mock_statuses = {\n",
    "    \"tank_01\": {\"values\": {\"level\": 25.0, \"pressure\": 10}},\n",
    "    \"tank_02\": {\"values\": {\"level\": 55.0, \"pressure\": 30}} # This one should trigger the alarm\n",
    "}\n",
    "\n",
    "# 3. Instantiate services\n",
    "mock_ts_db = MockTimeSeriesDB(mock_statuses)\n",
    "mock_event_store = MockEventStore()\n",
    "\n",
    "# The AlarmEngine will load the rules.yaml we just created\n",
    "alarm_engine = AlarmEngine(timeseries_db=mock_ts_db, event_store=mock_event_store)\n",
    "\n",
    "# 4. Run one check cycle manually\n",
    "print(\"Running alarm check...\")\n",
    "alarm_engine._check_all_devices(mock_statuses)\n",
    "print(\"Check complete.\")\n",
    "\n",
    "# 5. Verify the results\n",
    "print(f\"\\nTotal events generated: {len(mock_event_store.events)}\")\n",
    "assert len(mock_event_store.events) == 1, \"Expected exactly one alarm!\"\n",
    "\n",
    "generated_event = mock_event_store.events[0]\n",
    "assert generated_event['source'] == 'tank_02', \"Alarm source should be tank_02\"\n",
    "assert generated_event['severity'] == 'WARNING', \"Alarm severity should be WARNING\"\n",
    "assert \"level is high: 55.0m\" in generated_event['message'], \"Alarm message is incorrect\"\n",
    "\n",
    "print(\"\\nVerification successful! The correct alarm was generated.\")"
   ]
  },
  {
   "cell_type": "markdown",
   "metadata": {},
   "source": [
    "This example shows how the `AlarmEngine` provides a powerful, configuration-driven way to add monitoring and diagnostics to the CHS platform."
   ]
  }
 ],
 "metadata": {
  "kernelspec": {
   "display_name": "Python 3",
   "language": "python",
   "name": "python3"
  },
  "language_info": {
   "codemirror_mode": {
    "name": "ipython",
    "version": 3
   },
   "file_extension": ".py",
   "mimetype": "text/x-python",
   "name": "python",
   "nbconvert_exporter": "python",
   "pygments_lexer": "ipython3",
   "version": "3.10.9"
  }
 },
 "nbformat": 4,
 "nbformat_minor": 4
}
