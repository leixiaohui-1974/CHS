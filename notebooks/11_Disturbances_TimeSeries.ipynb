{
 "cells": [
  {
   "cell_type": "markdown",
   "metadata": {},
   "source": [
    "# Disturbance & Event Guides: TimeSeriesDisturbance\n",
    "\n",
    "This notebook provides a guide to the `TimeSeriesDisturbance` model. This component is essential for simulating external factors that change over time, such as fluctuating water demand from a city, or a known inflow pattern from an upstream source."
   ]
  },
  {
   "cell_type": "markdown",
   "metadata": {},
   "source": [
    "## 1. How It Works\n",
    "\n",
    "The `TimeSeriesDisturbance` model takes a predefined series of timestamps and corresponding values. At any point during the simulation, it uses **linear interpolation** to calculate the correct output value for the current simulation time `t`. This allows for smooth, continuous signals even if your data points are far apart."
   ]
  },
  {
   "cell_type": "code",
   "execution_count": null,
   "metadata": {},
   "outputs": [],
   "source": [
    "import sys\n",
    "import os\n",
    "import matplotlib.pyplot as plt\n",
    "import numpy as np\n",
    "\n",
    "# Add the project root to the path\n",
    "sys.path.insert(0, os.path.abspath(os.path.join(os.getcwd(), '..')))\n",
    "\n",
    "from water_system_sdk.src.chs_sdk.modules.disturbances.timeseries_disturbance import TimeSeriesDisturbance\n",
    "from water_system_sdk.src.chs_sdk.modules.modeling.storage_models import LinearTank"
   ]
  },
  {
   "cell_type": "markdown",
   "metadata": {},
   "source": [
    "## 2. Code Example: Simulating Variable Water Demand\n",
    "\n",
    "We will simulate a `LinearTank` representing a water tower. The outflow from this tower will be determined by a `TimeSeriesDisturbance` that represents the water demand of a small town over a 24-hour period (high demand in the morning and evening, low at night)."
   ]
  },
  {
   "cell_type": "code",
   "execution_count": null,
   "metadata": {},
   "outputs": [],
   "source": [
    "# 1. Define the time series for water demand (m^3/s)\n",
    "# Times are in seconds from the start of the day\n",
    "demand_times = [0, 6*3600, 8*3600, 12*3600, 18*3600, 20*3600, 24*3600]\n",
    "demand_values = [0.5, 0.6,    1.5,      1.0,      1.8,      1.2,      0.5]\n",
    "\n",
    "# 2. Initialize the models\n",
    "demand_model = TimeSeriesDisturbance(times=demand_times, values=demand_values)\n",
    "water_tower = LinearTank(area=2000.0, initial_level=10.0)\n",
    "\n",
    "# 3. Simulation Setup\n",
    "dt = 600 # 10-minute time step\n",
    "n_steps = int(24 * 3600 / dt)\n",
    "history = {\"time\": [], \"level\": [], \"demand\": []}\n",
    "\n",
    "# 4. Simulation Loop\n",
    "for i in range(n_steps):\n",
    "    current_time = i * dt\n",
    "    \n",
    "    # Get the current demand from the disturbance model\n",
    "    demand_model.step(dt=dt, t=current_time)\n",
    "    current_demand = demand_model.output\n",
    "    \n",
    "    # Set the tank's inputs\n",
    "    water_tower.input.inflow = 1.0 # Constant inflow from a pump\n",
    "    water_tower.input.demand_outflow = current_demand\n",
    "    \n",
    "    # Run the tank model\n",
    "    water_tower.step(dt=dt)\n",
    "    \n",
    "    # Record results\n",
    "    history[\"time\"].append(current_time / 3600) # time in hours\n",
    "    history[\"level\"].append(water_tower.level)\n",
    "    history[\"demand\"].append(current_demand)\n",
    "\n",
    "print(\"Simulation complete.\")"
   ]
  },
  {
   "cell_type": "markdown",
   "metadata": {},
   "source": [
    "## 3. Visualization\n",
    "\n",
    "Plotting the tank's water level against the water demand shows how the external disturbance affects the system state."
   ]
  },
  {
   "cell_type": "code",
   "execution_count": null,
   "metadata": {},
   "outputs": [],
   "source": [
    "fig, ax1 = plt.subplots(figsize=(12, 6))\n",
    "\n",
    "# Plot Level\n",
    "color = 'tab:blue'\n",
    "ax1.set_xlabel('Time (hours)')\n",
    "ax1.set_ylabel('Water Tower Level (m)', color=color)\n",
    "ax1.plot(history['time'], history['level'], color=color, label='Water Level')\n",
    "ax1.tick_params(axis='y', labelcolor=color)\n",
    "ax1.grid(True)\n",
    "\n",
    "# Plot demand on a second y-axis\n",
    "ax2 = ax1.twinx()\n",
    "color = 'tab:red'\n",
    "ax2.set_ylabel('Water Demand (m³/s)', color=color)\n",
    "ax2.plot(history['time'], history['demand'], color=color, linestyle='--', label='Demand')\n",
    "ax2.tick_params(axis='y', labelcolor=color)\n",
    "\n",
    "plt.title('Water Tower Level with Variable Demand')\n",
    "fig.legend(loc=\"upper right\", bbox_to_anchor=(1,1), bbox_transform=ax1.transAxes)\n",
    "plt.show()"
   ]
  },
  {
   "cell_type": "markdown",
   "metadata": {},
   "source": [
    "The plot shows the water level in the tower decreasing during the morning and evening peak demand periods and recovering during the low-demand periods of midday and overnight. This demonstrates how the `TimeSeriesDisturbance` model can be used to create realistic, time-varying scenarios for testing and analysis."
   ]
  }
 ],
 "metadata": {
  "kernelspec": {
   "display_name": "Python 3",
   "language": "python",
   "name": "python3"
  },
  "language_info": {
   "codemirror_mode": {
    "name": "ipython",
    "version": 3
   },
   "file_extension": ".py",
   "mimetype": "text/x-python",
   "name": "python",
   "nbconvert_exporter": "python",
   "pygments_lexer": "ipython3",
   "version": "3.10.9"
  }
 },
 "nbformat": 4,
 "nbformat_minor": 4
}
